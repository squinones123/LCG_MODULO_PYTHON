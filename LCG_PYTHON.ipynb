{
  "nbformat": 4,
  "nbformat_minor": 0,
  "metadata": {
    "colab": {
      "name": "LCG_PYTHON",
      "provenance": [],
      "collapsed_sections": [],
      "toc_visible": true,
      "mount_file_id": "1EiMyDkIbcvvMJX3Ucx6QgYtTTZRRglGV",
      "authorship_tag": "ABX9TyP3TZmcuPl3VcIH4HvdsR5C",
      "include_colab_link": true
    },
    "kernelspec": {
      "name": "python3",
      "display_name": "Python 3"
    },
    "language_info": {
      "name": "python"
    }
  },
  "cells": [
    {
      "cell_type": "markdown",
      "metadata": {
        "id": "view-in-github",
        "colab_type": "text"
      },
      "source": [
        "<a href=\"https://colab.research.google.com/github/squinones123/LCG_MODULO_PYTHON/blob/master/LCG_PYTHON.ipynb\" target=\"_parent\"><img src=\"https://colab.research.google.com/assets/colab-badge.svg\" alt=\"Open In Colab\"/></a>"
      ]
    },
    {
      "cell_type": "markdown",
      "metadata": {
        "id": "1GTUt7M80rDY"
      },
      "source": [
        "LIBRETA - SAMUEL QUIÑONES GALEANA 19/08/2021"
      ]
    },
    {
      "cell_type": "markdown",
      "metadata": {
        "id": "JLKTboBZ7JDm"
      },
      "source": [
        "Operaciones básicas"
      ]
    },
    {
      "cell_type": "code",
      "metadata": {
        "colab": {
          "base_uri": "https://localhost:8080/"
        },
        "id": "EQapGHrYt4Vv",
        "outputId": "0ceca491-a251-48c7-916f-990b37cde0b9"
      },
      "source": [
        "x=5 #Asignamos a x el valor de 5.\n",
        "print(x,type(x)) #Imprimimos el valor de x y el tipo de dato del mismo.\n",
        "\n"
      ],
      "execution_count": null,
      "outputs": [
        {
          "output_type": "stream",
          "text": [
            "5 <class 'int'>\n"
          ],
          "name": "stdout"
        }
      ]
    },
    {
      "cell_type": "code",
      "metadata": {
        "id": "u_8Dc8CgvqOw"
      },
      "source": [
        "print(x+3) #Le sumamos 3 a x.\n",
        "print(x-3) #Le restamos 3 a x.\n",
        "print(x*3) #Multiplicamos por 3 a x.\n",
        "print(x**3) #levamos a la tercera potencia a x."
      ],
      "execution_count": null,
      "outputs": []
    },
    {
      "cell_type": "code",
      "metadata": {
        "id": "IsityVqPuApt",
        "colab": {
          "base_uri": "https://localhost:8080/"
        },
        "outputId": "f8615a71-83d1-4675-885e-3e315d78bd3c"
      },
      "source": [
        "print(x) #Imprimimos x\n",
        "x += 1 #Le sumamos 1 a x y lo guardamos en la misma variable.\n",
        "print(x) #Imprimimos el valor actualizado de x.\n",
        "x *=2 # Multiplicamos por 2 a x y lo guardamos en la misma variable.\n",
        "print(x) #Imprimimos el valor actualizado de x."
      ],
      "execution_count": null,
      "outputs": [
        {
          "output_type": "stream",
          "text": [
            "5\n",
            "6\n",
            "12\n"
          ],
          "name": "stdout"
        }
      ]
    },
    {
      "cell_type": "code",
      "metadata": {
        "id": "sc2JTTTav0TS"
      },
      "source": [
        "y = 2.5 #Asignamos a y el valor de 2.5\n",
        "print(type(y)) #Imprimimos el tipo de dato.\n",
        "print(y, y+1,y*2,y**2) #Imprimimos el valor de y, el valor de y más uno, el valor de y por 2 y el valor de y al cuadrado."
      ],
      "execution_count": null,
      "outputs": []
    },
    {
      "cell_type": "code",
      "metadata": {
        "colab": {
          "base_uri": "https://localhost:8080/"
        },
        "id": "jjpl-0C_wB4o",
        "outputId": "d4bad853-cb9d-4d68-8905-f369fb14c789"
      },
      "source": [
        "t,f=True,False #Asignamos a t y f los valores booleanos de True y False respectivamente.\n",
        "print(type(t)) #Imprimimos el tipo de dato.\n"
      ],
      "execution_count": null,
      "outputs": [
        {
          "output_type": "stream",
          "text": [
            "<class 'bool'>\n"
          ],
          "name": "stdout"
        }
      ]
    },
    {
      "cell_type": "code",
      "metadata": {
        "colab": {
          "base_uri": "https://localhost:8080/"
        },
        "id": "zJXNpKRwwQxv",
        "outputId": "c7e163d4-9e29-468c-dbb5-5cac6c4b903f"
      },
      "source": [
        "print(t and f) #Imprimimos el resultado de aplicar el operador booleano and a t y f.\n",
        "print(t or f) #Imprimimos el resultado de aplicar el operador booleano or a t y f.\n",
        "print(not t) #Imprimimos el resultado de negar t.\n",
        "print(t != f) #Imprimimos el resultado de realizar la comparación \"no igual\" entre t y f.\n",
        "\n"
      ],
      "execution_count": null,
      "outputs": [
        {
          "output_type": "stream",
          "text": [
            "False\n",
            "True\n",
            "False\n",
            "True\n"
          ],
          "name": "stdout"
        }
      ]
    },
    {
      "cell_type": "code",
      "metadata": {
        "id": "5OiJ6rTgwfiP"
      },
      "source": [
        "hello = \"hello\" #Asignamos a hello el string hello.\n",
        "world = \"world\" #Asignamos a world el string world.\n",
        "print(hello, len(hello)) #Imprimimos la variable hello y la longitud del string hello."
      ],
      "execution_count": null,
      "outputs": []
    },
    {
      "cell_type": "code",
      "metadata": {
        "id": "mJLBJb3rxXen"
      },
      "source": [
        "hw= hello + \" \" + world #Concatenamos hello, un espacio y world y lo guardamos en hw.\n",
        "print(hw) #Imprimimos hw."
      ],
      "execution_count": null,
      "outputs": []
    },
    {
      "cell_type": "markdown",
      "metadata": {
        "id": "hpFW4TQGppQ1"
      },
      "source": [
        "Funciones dirigidas a strings"
      ]
    },
    {
      "cell_type": "code",
      "metadata": {
        "colab": {
          "base_uri": "https://localhost:8080/"
        },
        "id": "qoH4FctfxcK9",
        "outputId": "5da91d2b-0f63-4820-c264-ee8465ec8295"
      },
      "source": [
        "s= \"hello\" #Le asignamos a s el string hello\n",
        "print(s.capitalize()) #Hacemos mayúscula la primera letra del string hello y lo imprimimos.\n",
        "print(s.upper()) #Hacemos mayúscula todo el string hello y lo imprimimos.\n",
        "print(s.rjust(7)) #Alineamos a la derecha el string hello y lo imprimimos.\n",
        "print(s.center(7)) # Centramos el string hello y lo imprimimos.\n",
        "print(s.replace(\"l\", \"(ell)\")) #En el string hello reemplazamos toda l por un (ell) y lo imprimimos.\n",
        "print(\"world\".strip()) #Quitamos los espacios a los costados del string y lo imprimimos."
      ],
      "execution_count": null,
      "outputs": [
        {
          "output_type": "stream",
          "text": [
            "Hello\n",
            "HELLO\n",
            "  hello\n",
            " hello \n",
            "he(ell)(ell)o\n",
            "world\n"
          ],
          "name": "stdout"
        }
      ]
    },
    {
      "cell_type": "markdown",
      "metadata": {
        "id": "JKWZwpjBDU4z"
      },
      "source": [
        "Listas"
      ]
    },
    {
      "cell_type": "code",
      "metadata": {
        "id": "2hasOzBRyGFB",
        "colab": {
          "base_uri": "https://localhost:8080/"
        },
        "outputId": "8a52c084-a646-4cab-fb05-7ca9698b594c"
      },
      "source": [
        "xs = [0,1,2,3] #Hacemos que xs sea una lista.\n",
        "print(xs,xs[2]) #Imprimimos la lista completa y el índice 2 de la lista.\n",
        "print(xs[-1]) # Imprimimos el índice -1 de la lista."
      ],
      "execution_count": null,
      "outputs": [
        {
          "output_type": "stream",
          "text": [
            "[0, 1, 2, 3] 2\n",
            "3\n"
          ],
          "name": "stdout"
        }
      ]
    },
    {
      "cell_type": "code",
      "metadata": {
        "id": "5iqw0PhFyUXE"
      },
      "source": [
        "xs[2]=\"fox2\" #Insertamos fox2 en el índice 2 de la lista.\n",
        "print(xs) #Imprimimos el cambio realizado.\n"
      ],
      "execution_count": null,
      "outputs": []
    },
    {
      "cell_type": "code",
      "metadata": {
        "id": "AiRaznwuyYuE"
      },
      "source": [
        "xs.append(\"bar\") #Agregamos bar al final de la lista.\n",
        "print(xs) #Imprimimos los cambios."
      ],
      "execution_count": null,
      "outputs": []
    },
    {
      "cell_type": "code",
      "metadata": {
        "id": "ApWyArroyksU",
        "colab": {
          "base_uri": "https://localhost:8080/"
        },
        "outputId": "f026664d-6172-4348-9f48-e6461924079d"
      },
      "source": [
        "x=xs.pop() #Asignamos a x la lista xs sin su último valor.\n",
        "print(x,xs) #Imprimimos x y xs."
      ],
      "execution_count": null,
      "outputs": [
        {
          "output_type": "stream",
          "text": [
            "3 [0, 1, 2]\n"
          ],
          "name": "stdout"
        }
      ]
    },
    {
      "cell_type": "code",
      "metadata": {
        "colab": {
          "base_uri": "https://localhost:8080/"
        },
        "id": "oAgQA-EXyozq",
        "outputId": "69d0cf07-257e-4da3-9035-7fa353dde4c3"
      },
      "source": [
        "nums= list(range(5)) #Hacemos una lista de los valores desde el 0 hasta el 4 y lo guardam os en nums.\n",
        "print(nums) #Imprimimos nums.\n",
        "print(nums[2:4]) #Imprimimos los índices desde el 2 hasta el 3.\n",
        "print(nums[2:]) # Imprimimos todos los índices desde el 2 hasta el final de la lista.\n",
        "print(nums[:2]) #Imprimimos todos los índices desde el inicio de la lista hasta el índice 1.\n",
        "print(nums[:]) #Imprimimos todos los índices de la lista.\n",
        "print(nums[:-1]) #Imprimimos todos los índices excepto el último.\n",
        "nums[2:4]= [8,9] #Cambiamos el valor de los índices 2 y 3 por los valores 8 y 9.\n",
        "print(nums) #Imprimimos las modificaciones hechas.\n",
        "\n",
        "\n"
      ],
      "execution_count": null,
      "outputs": [
        {
          "output_type": "stream",
          "text": [
            "[0, 1, 2, 3, 4]\n",
            "[2, 3]\n",
            "[2, 3, 4]\n",
            "[0, 1]\n",
            "[0, 1, 2, 3, 4]\n",
            "[0, 1, 2, 3]\n",
            "[0, 1, 8, 9, 4]\n"
          ],
          "name": "stdout"
        }
      ]
    },
    {
      "cell_type": "code",
      "metadata": {
        "colab": {
          "base_uri": "https://localhost:8080/"
        },
        "id": "A7HNw_AZzzWq",
        "outputId": "1de01493-3752-4b21-e8ba-137a2b52a29b"
      },
      "source": [
        "animales = [\"gato\", \"perro\", \"chango\"] #Hacemos una lista con esos elementos.\n",
        "for animal in animales: #Este for nos imprime todos los elementos de la lista.\n",
        "  print(animal)"
      ],
      "execution_count": null,
      "outputs": [
        {
          "output_type": "stream",
          "text": [
            "gato\n",
            "perro\n",
            "chango\n"
          ],
          "name": "stdout"
        }
      ]
    },
    {
      "cell_type": "code",
      "metadata": {
        "colab": {
          "base_uri": "https://localhost:8080/"
        },
        "id": "YaCaoYC30Tb_",
        "outputId": "ff471771-83a0-4e58-a60e-b1924689f727"
      },
      "source": [
        "animales = [\"gato\", \"perro\", \"chango\"] #Hacemos una lista con esos elementos.\n",
        "for idx, animal in enumerate(animales): #El for nos permite imprimir todos los elementros de la lista asignándolos un índice.\n",
        "  print(\"#{}: {}\".format(idx+1,animal)) # El format nos permite poner los valores correspondientes dentro de los {}.\n",
        " \n"
      ],
      "execution_count": null,
      "outputs": [
        {
          "output_type": "stream",
          "text": [
            "#1: gato\n",
            "0 gato\n",
            "#2: perro\n",
            "1 perro\n",
            "#3: chango\n",
            "2 chango\n"
          ],
          "name": "stdout"
        }
      ]
    },
    {
      "cell_type": "code",
      "metadata": {
        "colab": {
          "base_uri": "https://localhost:8080/"
        },
        "id": "nhdb6_v32OVn",
        "outputId": "541a73fa-bafd-49b7-845f-a46ba65ccf5f"
      },
      "source": [
        "nums=[0,1,2,3,4] #Hacemos una lista con esos elementos.\n",
        "squares=[] #Hacemos una lista vacía llamada squares.\n",
        "for x in nums: #Este for nos permite calcular los cuadrados de los valores de la lista nums y guardarlos en squares.\n",
        "  squares.append(x**2)\n",
        "print(squares) #Imprimimos squares."
      ],
      "execution_count": null,
      "outputs": [
        {
          "output_type": "stream",
          "text": [
            "[0, 1, 4, 9, 16]\n"
          ],
          "name": "stdout"
        }
      ]
    },
    {
      "cell_type": "code",
      "metadata": {
        "id": "TCDpmRFS1LnZ",
        "colab": {
          "base_uri": "https://localhost:8080/"
        },
        "outputId": "026c19c8-d41a-48a2-cd8f-6e97673b363b"
      },
      "source": [
        "nums=[0,1,2,3,4] #Hacemos una lista con esos elementos.\n",
        "squares=[x**2 for x in nums] #Calculamos el cuadrado de cada uno de los elementos de la lista nums y los guardamos en squares.\n",
        "print(squares) #Imprimimos squares.\n"
      ],
      "execution_count": null,
      "outputs": [
        {
          "output_type": "stream",
          "text": [
            "[0, 1, 4, 9, 16]\n"
          ],
          "name": "stdout"
        }
      ]
    },
    {
      "cell_type": "code",
      "metadata": {
        "colab": {
          "base_uri": "https://localhost:8080/"
        },
        "id": "GeSfBgH43LJR",
        "outputId": "6f6486d4-5b11-44ee-9157-cdd6087b1c64"
      },
      "source": [
        "nums=[0,1,2,3,4] #Hacemos una lista con esos elementos.\n",
        "even_squares= [x**2 for x in nums if x%2==0] #Calculamos el cuadrado de cada uno de los elementos pares de la lista nums y los guardamos en even_squares.\n",
        "print(even_squares) #Imprimimos even_squares.\n"
      ],
      "execution_count": null,
      "outputs": [
        {
          "output_type": "stream",
          "text": [
            "[0, 4, 16]\n"
          ],
          "name": "stdout"
        }
      ]
    },
    {
      "cell_type": "markdown",
      "metadata": {
        "id": "cr7Dce9sDb5z"
      },
      "source": [
        "Diccionarios\n"
      ]
    },
    {
      "cell_type": "code",
      "metadata": {
        "colab": {
          "base_uri": "https://localhost:8080/"
        },
        "id": "umjjsoxE1ESX",
        "outputId": "f7145cce-20b7-4abb-bb7e-75e8b023c61c"
      },
      "source": [
        "d = {\"gato\": \"arena\", \"perro\": \"parque\"} #Creamos un diccionario.\n",
        "print(d[\"gato\"]) #Imprimimos el valor de la llave gato.\n",
        "print(\"gato\" in d) #Comprobamos si la llave gato se encuentra dentro de nuestro diccionario."
      ],
      "execution_count": null,
      "outputs": [
        {
          "output_type": "stream",
          "text": [
            "arena\n",
            "True\n"
          ],
          "name": "stdout"
        }
      ]
    },
    {
      "cell_type": "code",
      "metadata": {
        "id": "0Y6fcYAj4MHN",
        "colab": {
          "base_uri": "https://localhost:8080/"
        },
        "outputId": "c06108ef-d99a-49b6-88a3-e0b4b2f0f929"
      },
      "source": [
        "d[\"pez\"]=\"agua\" #Añadimos la llave pez y le asignamos el valor agua.\n",
        "print(d[\"pez\"]) #Imprimimos el valor de la llave pez.\n"
      ],
      "execution_count": null,
      "outputs": [
        {
          "output_type": "stream",
          "text": [
            "agua\n",
            "{'gato': 'arena', 'perro': 'parque', 'pez': 'agua'}\n"
          ],
          "name": "stdout"
        }
      ]
    },
    {
      "cell_type": "code",
      "metadata": {
        "id": "Et8H_f7r4Sfg",
        "colab": {
          "base_uri": "https://localhost:8080/",
          "height": 163
        },
        "outputId": "33c45c6c-7275-4cd5-dc87-39bdf7ccd35b"
      },
      "source": [
        "print(d[\"chango\"]) #Tratamos de imprimir el valor de la llave chango, sin embargo, no existe esa llave en el diccionario.\n"
      ],
      "execution_count": null,
      "outputs": [
        {
          "output_type": "error",
          "ename": "KeyError",
          "evalue": "ignored",
          "traceback": [
            "\u001b[0;31m---------------------------------------------------------------------------\u001b[0m",
            "\u001b[0;31mKeyError\u001b[0m                                  Traceback (most recent call last)",
            "\u001b[0;32m<ipython-input-13-f0710192696b>\u001b[0m in \u001b[0;36m<module>\u001b[0;34m()\u001b[0m\n\u001b[0;32m----> 1\u001b[0;31m \u001b[0mprint\u001b[0m\u001b[0;34m(\u001b[0m\u001b[0md\u001b[0m\u001b[0;34m[\u001b[0m\u001b[0;34m\"chango\"\u001b[0m\u001b[0;34m]\u001b[0m\u001b[0;34m)\u001b[0m\u001b[0;34m\u001b[0m\u001b[0;34m\u001b[0m\u001b[0m\n\u001b[0m",
            "\u001b[0;31mKeyError\u001b[0m: 'chango'"
          ]
        }
      ]
    },
    {
      "cell_type": "code",
      "metadata": {
        "id": "YrEquvWN4YwQ",
        "colab": {
          "base_uri": "https://localhost:8080/"
        },
        "outputId": "bfa8df52-fcfa-4e32-e542-dd77d179b56d"
      },
      "source": [
        "print(d.get(\"chango\",\"N/A\")) #Buscamos la llave chango en el diccionario y, si no está, se imprimirá N/A.\n",
        "print(d.get(\"pez\",\"N/A\")) #Buscamos la llave pez en el diccionario y, si no está, se imprimirá N/A.\n"
      ],
      "execution_count": null,
      "outputs": [
        {
          "output_type": "stream",
          "text": [
            "N/A\n",
            "agua\n"
          ],
          "name": "stdout"
        }
      ]
    },
    {
      "cell_type": "code",
      "metadata": {
        "id": "xeHC1VZm5HJ_",
        "colab": {
          "base_uri": "https://localhost:8080/"
        },
        "outputId": "c51ae686-ad2e-47a3-b64b-256e07afda65"
      },
      "source": [
        "del d[\"pez\"] #Eliminamos la llave pez.\n",
        "print(d.get(\"pez\",\"N/A\")) #Buscamos la llave pez en el diccionario y, si no está, se imprimirá N/A.\n"
      ],
      "execution_count": null,
      "outputs": [
        {
          "output_type": "stream",
          "text": [
            "N/A\n"
          ],
          "name": "stdout"
        }
      ]
    },
    {
      "cell_type": "code",
      "metadata": {
        "id": "s0dG67Di5hL3"
      },
      "source": [
        "d={\"humano\":2,\"gato\":4,\"aracnido\":8} #Hacemos otro diccionario.\n",
        "for animal,patas in d.items(): #Este for nos permite imprimir cada uno de las llaves y valores del diccionario.\n",
        "  print(\"Un {} tiene {} patas\".format(animal,patas)) #El format permite poner los valores correspondientes dentro de los {}.\n",
        "  "
      ],
      "execution_count": null,
      "outputs": []
    },
    {
      "cell_type": "code",
      "metadata": {
        "id": "kXovNDWr6Dn9",
        "colab": {
          "base_uri": "https://localhost:8080/"
        },
        "outputId": "a7649c33-8b8a-4ff1-fba4-e5bbde1cc4f6"
      },
      "source": [
        "nums=[0,1,2,3,4] #Creamos una lista\n",
        "pares_a_cuadrados={x: x**2 for x in nums if x %2==0} #Creamos un diccionario en donde la llave será un número par y, el valor de dicha llave, será el cuadrado de la llave.\n",
        "print(pares_a_cuadrados) #Imprimimos el diccionario."
      ],
      "execution_count": null,
      "outputs": [
        {
          "output_type": "stream",
          "text": [
            "{0: 0, 2: 4, 4: 16}\n"
          ],
          "name": "stdout"
        }
      ]
    },
    {
      "cell_type": "markdown",
      "metadata": {
        "id": "4X_PJfP0F-eR"
      },
      "source": [
        "Sets"
      ]
    },
    {
      "cell_type": "code",
      "metadata": {
        "id": "CI0vy2dL6c58",
        "colab": {
          "base_uri": "https://localhost:8080/"
        },
        "outputId": "db24a1bd-1b4c-472d-cdab-4811b47f4546"
      },
      "source": [
        "animales={\"gato\",\"perro\"} #Creamos un set.\n",
        "print(\"gato\"in animales) #Verificamos si gato está en el set.\n",
        "print(\"pez\"in animales)  #Verificamos si pez está en el set.\n",
        "\n"
      ],
      "execution_count": null,
      "outputs": [
        {
          "output_type": "stream",
          "text": [
            "True\n",
            "False\n"
          ],
          "name": "stdout"
        }
      ]
    },
    {
      "cell_type": "code",
      "metadata": {
        "id": "eHYRt9wr6rc3",
        "colab": {
          "base_uri": "https://localhost:8080/"
        },
        "outputId": "81be451b-6f9e-4770-96da-a11f0b551848"
      },
      "source": [
        "animales.add(\"pez\") #Añadimos pez al set.\n",
        "print(\"pez\"in animales) #Verificamos si pez está en el set.\n",
        "print(len(animales)) #Contamos cuantos elementos hay en el set.\n"
      ],
      "execution_count": null,
      "outputs": [
        {
          "output_type": "stream",
          "text": [
            "True\n",
            "3\n"
          ],
          "name": "stdout"
        }
      ]
    },
    {
      "cell_type": "code",
      "metadata": {
        "id": "8WYwr2HS6zll",
        "colab": {
          "base_uri": "https://localhost:8080/"
        },
        "outputId": "81026dde-3407-45d4-e36c-e58b1e5443b8"
      },
      "source": [
        "animales.add(\"gato\") #Intentamos añadir gato.\n",
        "print(len(animales)) #Nos damos cuenta que la cantidad de elementos sigue siendo tres pues el set no acepta datos repetidos.\n",
        "animales.remove(\"gato\") #Removemos gato.\n",
        "print(len(animales)) #Calculamos nuevamente la cantidad de elementos en el set.\n"
      ],
      "execution_count": null,
      "outputs": [
        {
          "output_type": "stream",
          "text": [
            "3\n",
            "2\n"
          ],
          "name": "stdout"
        }
      ]
    },
    {
      "cell_type": "code",
      "metadata": {
        "id": "owVClBQv7U2N"
      },
      "source": [
        "animales={\"gato\",\"perro\",\"pez\"} #Creamos otro set\n",
        "for idx, animal in enumerate(animales): #Imprimimos cada uno de los elementos del set y se les agrega un índice.\n",
        "  print(\"#{}: {}\".format(idx+1,animal)) #El format permite poner los valores correspondientes dentro de los {\n",
        "\n",
        "  \n"
      ],
      "execution_count": null,
      "outputs": []
    },
    {
      "cell_type": "markdown",
      "metadata": {
        "id": "FQhe0fExHEkQ"
      },
      "source": [
        "Math"
      ]
    },
    {
      "cell_type": "code",
      "metadata": {
        "colab": {
          "base_uri": "https://localhost:8080/"
        },
        "id": "4gyZSLnx78bi",
        "outputId": "dd89f64d-4778-44fc-83bf-6340e8ac86f7"
      },
      "source": [
        "from math import sqrt #Importamos la función sqrt de Math.\n",
        "print({int(sqrt(x)) for x in range(30)}) #Hacemos un set con las raíces cuadradas del rango específicado."
      ],
      "execution_count": null,
      "outputs": [
        {
          "output_type": "stream",
          "text": [
            "{0, 1, 2, 3, 4, 5}\n"
          ],
          "name": "stdout"
        }
      ]
    },
    {
      "cell_type": "markdown",
      "metadata": {
        "id": "L99q1ZLZq55q"
      },
      "source": [
        "Jugando con tuplas y diccionarios"
      ]
    },
    {
      "cell_type": "code",
      "metadata": {
        "id": "Lo7UUWa-8eUz",
        "colab": {
          "base_uri": "https://localhost:8080/"
        },
        "outputId": "17d833dd-9133-4997-fe28-022d2d7b308c"
      },
      "source": [
        "d = {(x,x+1): x for x in range(10)} #Hacemos un diccionario que tiene una tupla por llave.\n",
        "t=(5,6) #Hacemos una tupla.\n",
        "print(type(t)) #Imprimimos el tipo de dato de t.\n",
        "print(d[t]) #Imprimimos el valor de la llave que coincida con t.\n",
        "print(d[(1,2)]) #Imprimimos el valor de la llave que coincida con (1,2)."
      ],
      "execution_count": null,
      "outputs": [
        {
          "output_type": "stream",
          "text": [
            "<class 'tuple'>\n",
            "5\n",
            "1\n"
          ],
          "name": "stdout"
        }
      ]
    },
    {
      "cell_type": "code",
      "metadata": {
        "id": "bc-kB1eP84VM",
        "colab": {
          "base_uri": "https://localhost:8080/",
          "height": 163
        },
        "outputId": "f8eb9161-832d-4742-b2c1-f13bc36f3e91"
      },
      "source": [
        "t[0]=1 #Intentamos modificar una tupla, sin embargo, esta no se puede modificar."
      ],
      "execution_count": null,
      "outputs": [
        {
          "output_type": "error",
          "ename": "TypeError",
          "evalue": "ignored",
          "traceback": [
            "\u001b[0;31m---------------------------------------------------------------------------\u001b[0m",
            "\u001b[0;31mTypeError\u001b[0m                                 Traceback (most recent call last)",
            "\u001b[0;32m<ipython-input-25-531e22094236>\u001b[0m in \u001b[0;36m<module>\u001b[0;34m()\u001b[0m\n\u001b[0;32m----> 1\u001b[0;31m \u001b[0mt\u001b[0m\u001b[0;34m[\u001b[0m\u001b[0;36m0\u001b[0m\u001b[0;34m]\u001b[0m\u001b[0;34m=\u001b[0m\u001b[0;36m1\u001b[0m\u001b[0;34m\u001b[0m\u001b[0;34m\u001b[0m\u001b[0m\n\u001b[0m",
            "\u001b[0;31mTypeError\u001b[0m: 'tuple' object does not support item assignment"
          ]
        }
      ]
    },
    {
      "cell_type": "markdown",
      "metadata": {
        "id": "yaDVCAp2rDsE"
      },
      "source": [
        "Diseño de funciones"
      ]
    },
    {
      "cell_type": "code",
      "metadata": {
        "colab": {
          "base_uri": "https://localhost:8080/"
        },
        "id": "AFUhJIHI9oWS",
        "outputId": "7c2ad1d6-cf7f-47e4-e238-b2c682a4529a"
      },
      "source": [
        "def sign(x): #Diseñamos una función que nos regresa el signo del número\n",
        "  if x > 0: #Si es mayor que cero regresa positivo.\n",
        "    return \"positive\"\n",
        "  elif x < 0:#Si es menor que cero regresa negativo.\n",
        "    return \"negative\"\n",
        "  else:            #Si es cero regresa la palabra cero.\n",
        "    return \"zero\"\n",
        "\n",
        "for x in [-1,0,1]: #Probamos la función con cada uno de los valores de la lista e imprimimos el resultado.\n",
        "  print(sign(x))\n"
      ],
      "execution_count": null,
      "outputs": [
        {
          "output_type": "stream",
          "text": [
            "negative\n",
            "zero\n",
            "positive\n"
          ],
          "name": "stdout"
        }
      ]
    },
    {
      "cell_type": "code",
      "metadata": {
        "colab": {
          "base_uri": "https://localhost:8080/"
        },
        "id": "CHBTUhUA-Wfa",
        "outputId": "233476a3-e012-4d6f-9c19-7156c7c2be6a"
      },
      "source": [
        "def hello(name, loud=False): #creamos una función hello.\n",
        "  if loud:   #Si loud=False, entonces el nombre se hace mayúscula.\n",
        "    print(\"HELLO, {}\".format(name.upper()))\n",
        "  else:  #Si loud es distinto a false, entonces solo se imprime el nombre.\n",
        "    print(\"HELLO, {}!\".format(name))\n",
        "\n",
        "hello(\"Bob\") #Probamos la función con Bob.\n",
        "hello(\"Fred\",loud=True) #Probamos la función con Fred y Loud=True.\n",
        "    "
      ],
      "execution_count": null,
      "outputs": [
        {
          "output_type": "stream",
          "text": [
            "HELLO, Bob!\n",
            "HELLO, FRED\n"
          ],
          "name": "stdout"
        }
      ]
    },
    {
      "cell_type": "markdown",
      "metadata": {
        "id": "s3mUZWUsJnbt"
      },
      "source": [
        "Numpy"
      ]
    },
    {
      "cell_type": "code",
      "metadata": {
        "id": "f_WHbWgFPHHi"
      },
      "source": [
        "import numpy as np #Importamos numpy.\n"
      ],
      "execution_count": null,
      "outputs": []
    },
    {
      "cell_type": "markdown",
      "metadata": {
        "id": "1SUGQh8Trvvh"
      },
      "source": [
        "Diversas funciones de Numpy"
      ]
    },
    {
      "cell_type": "code",
      "metadata": {
        "colab": {
          "base_uri": "https://localhost:8080/"
        },
        "id": "iRLqoAp9PJxI",
        "outputId": "fe1ea3c0-4b3d-44d9-ed7a-b2b59b2e3f26"
      },
      "source": [
        "a= np.array([1,2,3]) #Creamos una lista con esos valores y lo guardamos en a.\n",
        "print(type(a),a.shape,a[0],a[1],a[2]) #Imprimimos el tipo de dato de a, la forma de a y los valores de los índices 1,2 y 3.\n",
        "a[0]=5 #Hacemos que a en el índice 0 sea 5.\n",
        "print(a) #Imprimimos a."
      ],
      "execution_count": null,
      "outputs": [
        {
          "output_type": "stream",
          "text": [
            "<class 'numpy.ndarray'> (3,) 1 2 3\n",
            "[5 2 3]\n"
          ],
          "name": "stdout"
        }
      ]
    },
    {
      "cell_type": "code",
      "metadata": {
        "colab": {
          "base_uri": "https://localhost:8080/"
        },
        "id": "WAcTo7RTP0Eh",
        "outputId": "4d9c8fd1-f9dd-43b0-95ca-4996eff118f8"
      },
      "source": [
        "b=np.array([[1,2,3],[4,5,6]]) #Creamos una matriz.\n",
        "print(b) #Imprimimos b."
      ],
      "execution_count": null,
      "outputs": [
        {
          "output_type": "stream",
          "text": [
            "[[1 2 3]\n",
            " [4 5 6]]\n"
          ],
          "name": "stdout"
        }
      ]
    },
    {
      "cell_type": "code",
      "metadata": {
        "colab": {
          "base_uri": "https://localhost:8080/"
        },
        "id": "V7lWf5faQNtB",
        "outputId": "1993ba94-b87c-43f3-d633-9d2a3b98e1a2"
      },
      "source": [
        "print(b.shape) #Imprimimos cuantas filas y columnas tiene b.\n",
        "print(b[0,0],b[0,1],b[1,0]) #Imprimimos los valores de las coordenadas correspondientes."
      ],
      "execution_count": null,
      "outputs": [
        {
          "output_type": "stream",
          "text": [
            "(2, 3)\n",
            "1 2 4\n"
          ],
          "name": "stdout"
        }
      ]
    },
    {
      "cell_type": "code",
      "metadata": {
        "colab": {
          "base_uri": "https://localhost:8080/"
        },
        "id": "qhm6IuMdQYuf",
        "outputId": "08972826-31e8-406d-edf5-a87d78a4aeb1"
      },
      "source": [
        "a=np.zeros((2,2)) #Hacemos una matriz de ceros con 2 filas y 2 columnas.\n",
        "print(a) #Imprimimos a."
      ],
      "execution_count": null,
      "outputs": [
        {
          "output_type": "stream",
          "text": [
            "[[0. 0.]\n",
            " [0. 0.]]\n"
          ],
          "name": "stdout"
        }
      ]
    },
    {
      "cell_type": "code",
      "metadata": {
        "colab": {
          "base_uri": "https://localhost:8080/"
        },
        "id": "Lwk--ReKQiJr",
        "outputId": "dadcc9b7-5fc6-4197-db75-d390529d28bd"
      },
      "source": [
        "b = np.ones((1,2)) #Hacemos una matriz de unos con una fila y dos columnas.\n",
        "print(b) #Imprimimos b."
      ],
      "execution_count": null,
      "outputs": [
        {
          "output_type": "stream",
          "text": [
            "[[1. 1.]]\n"
          ],
          "name": "stdout"
        }
      ]
    },
    {
      "cell_type": "code",
      "metadata": {
        "colab": {
          "base_uri": "https://localhost:8080/"
        },
        "id": "vARDKS1yQzOd",
        "outputId": "4d0359fd-5150-43ba-b4f1-7f770088b48a"
      },
      "source": [
        "c=np.full((2,2),7) #Hacemos una matriz llena de sietes con dos filas y dos columnas.\n",
        "print(c) #Imprimimos c."
      ],
      "execution_count": null,
      "outputs": [
        {
          "output_type": "stream",
          "text": [
            "[[7 7]\n",
            " [7 7]]\n"
          ],
          "name": "stdout"
        }
      ]
    },
    {
      "cell_type": "code",
      "metadata": {
        "colab": {
          "base_uri": "https://localhost:8080/"
        },
        "id": "EWJmYkWlQ5kV",
        "outputId": "3db28faf-ef4d-4b11-c449-b7df0edb9a67"
      },
      "source": [
        "d=np.eye(2) #Regresa una matriz con unos en la diagonal y ceros donde sea.\n",
        "print(d) #Imprime d."
      ],
      "execution_count": null,
      "outputs": [
        {
          "output_type": "stream",
          "text": [
            "[[1. 0.]\n",
            " [0. 1.]]\n"
          ],
          "name": "stdout"
        }
      ]
    },
    {
      "cell_type": "code",
      "metadata": {
        "colab": {
          "base_uri": "https://localhost:8080/"
        },
        "id": "TjZCQgGWRBbz",
        "outputId": "5ff6b242-b791-486c-b811-4a818b698c5f"
      },
      "source": [
        "e = np.random.random((2,2)) #Genera una matriz con valores aleatorio con dos filas y dos columnas.\n",
        "print(e) #Imprime e."
      ],
      "execution_count": null,
      "outputs": [
        {
          "output_type": "stream",
          "text": [
            "[[0.39654336 0.41771897]\n",
            " [0.40107037 0.18415868]]\n"
          ],
          "name": "stdout"
        }
      ]
    },
    {
      "cell_type": "code",
      "metadata": {
        "id": "6gWEyMSoRWQR",
        "colab": {
          "base_uri": "https://localhost:8080/"
        },
        "outputId": "e6b8900c-7760-4296-848a-7f01b422950b"
      },
      "source": [
        "a=np.array([[1,2,3,4],[5,6,7,8],[9,10,12,12]]) #Genera una matriz con esos datos.\n",
        "b=a[:2,1:3] #Genera una matriz a partir de esos cortes.\n",
        "print(b) #Imprime b.\n"
      ],
      "execution_count": null,
      "outputs": [
        {
          "output_type": "stream",
          "text": [
            "[[2 3]\n",
            " [6 7]]\n"
          ],
          "name": "stdout"
        }
      ]
    },
    {
      "cell_type": "code",
      "metadata": {
        "id": "S9G10nZKSEeM",
        "colab": {
          "base_uri": "https://localhost:8080/"
        },
        "outputId": "96e3af36-c88d-4a6a-8d04-a8f0e721211b"
      },
      "source": [
        "print(a[0,1]) #Imprime el valor correspondiente a la fila 0 columna 1.\n",
        "b[0,0]=77 #Inserta un 77 en la fila 0 columna 0.  #b[0,0] es lo mismo que [0,1] \n",
        "print(a[0,1]) #Vemos como la modificación en b afecta en a."
      ],
      "execution_count": null,
      "outputs": [
        {
          "output_type": "stream",
          "text": [
            "2\n",
            "77\n"
          ],
          "name": "stdout"
        }
      ]
    },
    {
      "cell_type": "code",
      "metadata": {
        "colab": {
          "base_uri": "https://localhost:8080/"
        },
        "id": "1jqOzLy0S5Au",
        "outputId": "03b27a44-c8ce-449a-ad4b-ca0800f00b2d"
      },
      "source": [
        "x=np.array([[1,2],[3,4]], dtype=np.float64) #Generamos una matriz y le especificamos el tipo de dato.\n",
        "y=np.array([[5,6],[7,8]], dtype=np.float64) #Generamos una matriz y le especificamos el tipo de dato.\n",
        "\n",
        "print(x+y) #Sumamos las matrices.\n",
        "print(np.add(x,y)) #Otra forma de sumar."
      ],
      "execution_count": null,
      "outputs": [
        {
          "output_type": "stream",
          "text": [
            "[[ 6.  8.]\n",
            " [10. 12.]]\n",
            "[[ 6.  8.]\n",
            " [10. 12.]]\n"
          ],
          "name": "stdout"
        }
      ]
    },
    {
      "cell_type": "code",
      "metadata": {
        "colab": {
          "base_uri": "https://localhost:8080/"
        },
        "id": "n7nBQIuXTY_C",
        "outputId": "e95560bb-25af-4f48-8be3-0671ff6d773d"
      },
      "source": [
        "print(x-y) #Restamos las matrices.\n",
        "print(np.subtract(x,y)) #Otra forma de restar."
      ],
      "execution_count": null,
      "outputs": [
        {
          "output_type": "stream",
          "text": [
            "[[-4. -4.]\n",
            " [-4. -4.]]\n",
            "[[-4. -4.]\n",
            " [-4. -4.]]\n"
          ],
          "name": "stdout"
        }
      ]
    },
    {
      "cell_type": "code",
      "metadata": {
        "colab": {
          "base_uri": "https://localhost:8080/"
        },
        "id": "TzA2tZm3UALo",
        "outputId": "ab9833bf-bb60-499b-b58d-d27f2dc7fce1"
      },
      "source": [
        "print(x*y) #Multiplicación de matrices.\n",
        "print(np.multiply(x,y)) # Otra forma de multiplicar."
      ],
      "execution_count": null,
      "outputs": [
        {
          "output_type": "stream",
          "text": [
            "[[ 5. 12.]\n",
            " [21. 32.]]\n"
          ],
          "name": "stdout"
        }
      ]
    },
    {
      "cell_type": "code",
      "metadata": {
        "colab": {
          "base_uri": "https://localhost:8080/"
        },
        "id": "Z8vHNKS-To4O",
        "outputId": "0c1db640-83fe-4be0-de4a-6e382fa83dd1"
      },
      "source": [
        "print(x/y) #División de matrices.\n",
        "print(np.divide(x,y)) #Otra forma de multiplicar.\n"
      ],
      "execution_count": null,
      "outputs": [
        {
          "output_type": "stream",
          "text": [
            "[[0.2        0.33333333]\n",
            " [0.42857143 0.5       ]]\n",
            "[[0.2        0.33333333]\n",
            " [0.42857143 0.5       ]]\n"
          ],
          "name": "stdout"
        }
      ]
    },
    {
      "cell_type": "code",
      "metadata": {
        "colab": {
          "base_uri": "https://localhost:8080/"
        },
        "id": "d78pecKyTtUc",
        "outputId": "7c4e99bf-44cc-4d1b-d607-6020acf1f946"
      },
      "source": [
        "print(np.sqrt(x)) # Sacamos la raíz cuadrada de los valores de la matriz."
      ],
      "execution_count": null,
      "outputs": [
        {
          "output_type": "stream",
          "text": [
            "[[1.         1.41421356]\n",
            " [1.73205081 2.        ]]\n"
          ],
          "name": "stdout"
        }
      ]
    },
    {
      "cell_type": "code",
      "metadata": {
        "colab": {
          "base_uri": "https://localhost:8080/"
        },
        "id": "6jA7DViLUQwQ",
        "outputId": "c291738c-9a2d-4668-a489-085ebdb1d66a"
      },
      "source": [
        "x=np.array(([1,2],[3,4])) #Generamos una matriz.\n",
        "y=np.array(([5,6],[7,8])) #Generamos otra matriz.\n",
        "\n",
        "v=np.array([9,10]) #Generamos una matriz y la guardamos en v.\n",
        "w=np.array([11,12]) #Generamos una matriz y la guardamos en w.\n",
        "\n",
        "#producto interno de vectores; ambos producen 219.\n",
        "print(v.dot(w)) \n",
        "print(np.dot(v,w))\n"
      ],
      "execution_count": null,
      "outputs": [
        {
          "output_type": "stream",
          "text": [
            "219\n",
            "219\n"
          ],
          "name": "stdout"
        }
      ]
    },
    {
      "cell_type": "code",
      "metadata": {
        "colab": {
          "base_uri": "https://localhost:8080/"
        },
        "id": "LFZVkO-nU2yZ",
        "outputId": "fbe7c964-3a85-492d-ea57-7a4ba5520543"
      },
      "source": [
        "print(v@w) #Producto interno de vectores."
      ],
      "execution_count": null,
      "outputs": [
        {
          "output_type": "stream",
          "text": [
            "219\n"
          ],
          "name": "stdout"
        }
      ]
    },
    {
      "cell_type": "code",
      "metadata": {
        "colab": {
          "base_uri": "https://localhost:8080/"
        },
        "id": "t1wAK6AfU_kG",
        "outputId": "790c9c67-bb59-46cc-ccf7-e4f6327e28b5"
      },
      "source": [
        "print(x.dot(v)) #Producto interno de vectores.\n",
        "print(np.dot(x,v)) #Producto interno de vectores.\n",
        "print(x@v) #Producto interno de vectores."
      ],
      "execution_count": null,
      "outputs": [
        {
          "output_type": "stream",
          "text": [
            "[29 67]\n",
            "[29 67]\n",
            "[29 67]\n"
          ],
          "name": "stdout"
        }
      ]
    },
    {
      "cell_type": "code",
      "metadata": {
        "colab": {
          "base_uri": "https://localhost:8080/"
        },
        "id": "g7dhqv98Vakb",
        "outputId": "24754ae2-3785-46ef-d4a0-e16b54a767c5"
      },
      "source": [
        "x=np.array([[1,2],[3,4]]) #Generamos una matriz.\n",
        "print(np.sum(x)) #suma todos los elemetos.\n",
        "print(np.sum(x,axis=0)) #suma por columna.\n",
        "print(np.sum(x,axis=1)) #suma por líneas."
      ],
      "execution_count": null,
      "outputs": [
        {
          "output_type": "stream",
          "text": [
            "10\n",
            "[4 6]\n",
            "[3 7]\n"
          ],
          "name": "stdout"
        }
      ]
    },
    {
      "cell_type": "code",
      "metadata": {
        "colab": {
          "base_uri": "https://localhost:8080/"
        },
        "id": "BFyOk-NQVtG9",
        "outputId": "013b9381-8fb4-4fce-dcc1-65bd3030ae98"
      },
      "source": [
        "print(x) #Imprimimos x.\n",
        "print(\"transpose\\n\",x.T) #Transpuesta de x."
      ],
      "execution_count": null,
      "outputs": [
        {
          "output_type": "stream",
          "text": [
            "[[1 2]\n",
            " [3 4]]\n",
            "transpose\n",
            " [[1 3]\n",
            " [2 4]]\n"
          ],
          "name": "stdout"
        }
      ]
    },
    {
      "cell_type": "code",
      "metadata": {
        "colab": {
          "base_uri": "https://localhost:8080/"
        },
        "id": "yMYsRWioW_HI",
        "outputId": "2167fc83-6bf0-48c1-88db-83489139fdf1"
      },
      "source": [
        "v=np.array([[1,2,3]]) #Generamos una matriz.\n",
        "print(v) #Imprimimos la matriz.\n",
        "print(\"transpose\\n\",v.T) #Obtenemos la transpuesta de v."
      ],
      "execution_count": null,
      "outputs": [
        {
          "output_type": "stream",
          "text": [
            "[[1 2 3]]\n",
            "transpose\n",
            " [[1]\n",
            " [2]\n",
            " [3]]\n"
          ],
          "name": "stdout"
        }
      ]
    },
    {
      "cell_type": "markdown",
      "metadata": {
        "id": "gjL0s2wDN9lw"
      },
      "source": [
        "Matplotlib"
      ]
    },
    {
      "cell_type": "code",
      "metadata": {
        "id": "4PbxiY2fXIsY"
      },
      "source": [
        "import matplotlib.pyplot as plt #Importamos matplotlib.\n",
        "import numpy as np #Importamos numpy.\n"
      ],
      "execution_count": null,
      "outputs": []
    },
    {
      "cell_type": "code",
      "metadata": {
        "id": "l6sQw6rMXPaD"
      },
      "source": [
        "%matplotlib inline #Nos muestra ubicación de memoria de la gráfica y nos muestra la gráfica en la libreta."
      ],
      "execution_count": null,
      "outputs": []
    },
    {
      "cell_type": "markdown",
      "metadata": {
        "id": "EXCpTEH3rhU2"
      },
      "source": [
        "Creando gráficas"
      ]
    },
    {
      "cell_type": "code",
      "metadata": {
        "colab": {
          "base_uri": "https://localhost:8080/",
          "height": 299
        },
        "id": "RToI5fBUXxaK",
        "outputId": "0e13b088-f7ee-4fdf-cbee-9cca442daeaa"
      },
      "source": [
        "x= np.arange(0,3*np.pi,0.1) #Obtenemos una lista con los valores desde 0 hasta 3*pi en pasos de 0.1.\n",
        "y= np.sin(x) #Obtenemos el seno de cada uno de esos valores.\n",
        "\n",
        "plt.plot(x,y) #Graficamos,"
      ],
      "execution_count": null,
      "outputs": [
        {
          "output_type": "stream",
          "text": [
            "0.0\n"
          ],
          "name": "stdout"
        },
        {
          "output_type": "execute_result",
          "data": {
            "text/plain": [
              "[<matplotlib.lines.Line2D at 0x7f57aae0d910>]"
            ]
          },
          "metadata": {},
          "execution_count": 36
        },
        {
          "output_type": "display_data",
          "data": {
            "image/png": "[encoded data removed]",
            "text/plain": [
              "<Figure size 432x288 with 1 Axes>"
            ]
          },
          "metadata": {
            "needs_background": "light"
          }
        }
      ]
    },
    {
      "cell_type": "code",
      "metadata": {
        "colab": {
          "base_uri": "https://localhost:8080/",
          "height": 312
        },
        "id": "1Ed16Cy-ZkxL",
        "outputId": "f9139854-7c33-4eaf-a409-34bda7b95b1b"
      },
      "source": [
        "y_sin=np.sin(x) #Obtenemos el seno de los valores anteriores.\n",
        "y_cos=np.cos(x) #Obtenemos el coseno de los valores anteriores.\n",
        "\n",
        "plt.plot(x,y_sin) #Graficamos x contra y_sin.\n",
        "plt.plot(x,y_cos) #Graficamos c contra y_cos.\n",
        "plt.xlabel(\"x axis label\") #Agregamos un nombre al eje x.\n",
        "plt.ylabel(\"y axis label\") #Agregamos un nombre al eje y.\n",
        "plt.title(\"sine and cosine\") #Agregamos un nombre al gráfico.\n",
        "plt.legend([\"sine,cosine\"]) #Anadiños una leyenda."
      ],
      "execution_count": null,
      "outputs": [
        {
          "output_type": "execute_result",
          "data": {
            "text/plain": [
              "<matplotlib.legend.Legend at 0x7fd7d5252fd0>"
            ]
          },
          "metadata": {
            "tags": []
          },
          "execution_count": 56
        },
        {
          "output_type": "display_data",
          "data": {
            "image/png": "[encoded data removed]",
            "text/plain": [
              "<Figure size 432x288 with 1 Axes>"
            ]
          },
          "metadata": {
            "tags": [],
            "needs_background": "light"
          }
        }
      ]
    },
    {
      "cell_type": "markdown",
      "metadata": {
        "id": "hQBMyBmbsE3f"
      },
      "source": [
        "Subplots"
      ]
    },
    {
      "cell_type": "code",
      "metadata": {
        "colab": {
          "base_uri": "https://localhost:8080/",
          "height": 281
        },
        "id": "zpFKi-4nbzP-",
        "outputId": "bc5b3303-d6d4-4afc-c2e5-f5097da311ee"
      },
      "source": [
        "x=np.arange(0,3*np.pi,0.1) #Obtenemos una lista con los valores desde 0 hasta 3*pi en pasos de 0.1.\n",
        "y_sin=np.sin(x) #Obtenemos el seno de los valores anteriores.\n",
        "y_cos=np.cos(x) #Obtenemos el coseno de los valores anteriores.\n",
        "\n",
        "plt.subplot(2,1,1) #Hacemos un subplot con dos gráficos, en la columna uno, fila uno. #(Numero imagenes, columnas, linea) \n",
        "\n",
        "plt.plot(x,y_sin) #Graficamos x contra y_sin.\n",
        "plt.title(\"sine\") #Agregamos título.\n",
        "\n",
        "plt.subplot(2,1,2) #Agregamos el siguiente subplot en la columna 1, fila 2.\n",
        "plt.plot(x,y_cos) #Graficamos x contra y_cos.\n",
        "plt.title(\"cosine\") #Agregamos título.\n",
        "\n",
        "plt.show() #Desplegamos el gráfico."
      ],
      "execution_count": null,
      "outputs": [
        {
          "output_type": "display_data",
          "data": {
            "image/png": "[encoded data removed]",
            "text/plain": [
              "<Figure size 432x288 with 2 Axes>"
            ]
          },
          "metadata": {
            "tags": [],
            "needs_background": "light"
          }
        }
      ]
    },
    {
      "cell_type": "markdown",
      "metadata": {
        "id": "ZmpN59Y0oihB"
      },
      "source": [
        "Pandas"
      ]
    },
    {
      "cell_type": "code",
      "metadata": {
        "id": "Z9SfD-yrc3vl"
      },
      "source": [
        "import pandas as pd #Importamos pandas.\n"
      ],
      "execution_count": 1,
      "outputs": []
    },
    {
      "cell_type": "markdown",
      "metadata": {
        "id": "lyqgQyhrsPVG"
      },
      "source": [
        "Creando dataframes con pandas"
      ]
    },
    {
      "cell_type": "code",
      "metadata": {
        "id": "FtZqFj9Vdi_u",
        "colab": {
          "base_uri": "https://localhost:8080/"
        },
        "outputId": "45da7df9-7801-413a-bfc1-3eab720d90e6"
      },
      "source": [
        "df=pd.DataFrame({\"Nombres\": [\"Sofia\",\"Marlon\",\"Samuel\",\"Bruno\",\"Javier\",\"Diego\",\"Xochitl\"],       #Creamos un dataframe.\n",
        "    \"Horoscopos\":[\"Geminis\",\"Cancer\",\"Tauro\",\"Libra\",\"Capricornio\",\"Sagitario\",\"Cancer\"],\n",
        "    \"Edades\": [\"19\",\"20\",\"19\",\"19\",\"21\",\"19\",\"20\"]})\n",
        "print(df) #Imprimimos el dataframe"
      ],
      "execution_count": 4,
      "outputs": [
        {
          "output_type": "stream",
          "text": [
            "   Nombres   Horoscopos Edades\n",
            "0    Sofia      Geminis     19\n",
            "1   Marlon       Cancer     20\n",
            "2   Samuel        Tauro     19\n",
            "3    Bruno        Libra     19\n",
            "4   Javier  Capricornio     21\n",
            "5    Diego    Sagitario     19\n",
            "6  Xochitl       Cancer     20\n"
          ],
          "name": "stdout"
        }
      ]
    },
    {
      "cell_type": "code",
      "metadata": {
        "id": "s4BJvRJGf2sh"
      },
      "source": [
        "type(df) #Obtenemos el tipo de dato de df."
      ],
      "execution_count": null,
      "outputs": []
    },
    {
      "cell_type": "markdown",
      "metadata": {
        "id": "EK7xCm5EsqBg"
      },
      "source": [
        "Funciones aplicadas a dataframes"
      ]
    },
    {
      "cell_type": "code",
      "metadata": {
        "id": "j_NnJxMOf4GB"
      },
      "source": [
        "df=df.set_index(\"Nombres\") #Hacemos que los índices del dataframe sean los nombres.\n"
      ],
      "execution_count": null,
      "outputs": []
    },
    {
      "cell_type": "code",
      "metadata": {
        "colab": {
          "base_uri": "https://localhost:8080/"
        },
        "id": "lzFCvitAgV7p",
        "outputId": "a686ed1c-8f31-4446-b021-3c812dba07fc"
      },
      "source": [
        "df.Edades.mean() #Obtenemos de manera incorrecta la media de las edades."
      ],
      "execution_count": null,
      "outputs": [
        {
          "output_type": "execute_result",
          "data": {
            "text/plain": [
              "2743131315988.5713"
            ]
          },
          "metadata": {
            "tags": []
          },
          "execution_count": 73
        }
      ]
    },
    {
      "cell_type": "code",
      "metadata": {
        "colab": {
          "base_uri": "https://localhost:8080/"
        },
        "id": "eXkj-fpfgfcL",
        "outputId": "e5ad1e77-2ffb-4e25-d44d-ddfb4bfde888"
      },
      "source": [
        "type(df.Edades) #Obtenemos el tipo de dato de la columna Edades."
      ],
      "execution_count": null,
      "outputs": [
        {
          "output_type": "execute_result",
          "data": {
            "text/plain": [
              "pandas.core.series.Series"
            ]
          },
          "metadata": {
            "tags": []
          },
          "execution_count": 74
        }
      ]
    },
    {
      "cell_type": "markdown",
      "metadata": {
        "id": "7RNuCEL_s2hp"
      },
      "source": [
        "Función lambda"
      ]
    },
    {
      "cell_type": "code",
      "metadata": {
        "colab": {
          "base_uri": "https://localhost:8080/"
        },
        "id": "D5qsKNOIgk1h",
        "outputId": "e7df103e-e0bc-410b-f70f-f0330dfda646"
      },
      "source": [
        "df[\"Edades\"]=df.Edades.apply(lambda x: int(x)) #Transformamos los datos de la columna Edades en int.\n",
        "df.Edades.mean() #Obtenemos de manera correcta el promedio de la edades."
      ],
      "execution_count": null,
      "outputs": [
        {
          "output_type": "execute_result",
          "data": {
            "text/plain": [
              "19.571428571428573"
            ]
          },
          "metadata": {
            "tags": []
          },
          "execution_count": 81
        }
      ]
    },
    {
      "cell_type": "code",
      "metadata": {
        "id": "MRRgclCXhapP"
      },
      "source": [
        "df[\"Edades\"]=df.Edades.apply(lambda x: int(x+1)) #Aumentamos en 1 la edad de todos."
      ],
      "execution_count": null,
      "outputs": []
    },
    {
      "cell_type": "code",
      "metadata": {
        "colab": {
          "base_uri": "https://localhost:8080/"
        },
        "id": "EVELDKwBheOl",
        "outputId": "62b6141d-c0df-4252-9471-29a613a3624c"
      },
      "source": [
        "print(df) #Imprimimos el dataset."
      ],
      "execution_count": null,
      "outputs": [
        {
          "output_type": "stream",
          "text": [
            "          Horoscopos  Edades\n",
            "Nombres                     \n",
            "Sofia        Geminis      20\n",
            "Marlon        Cancer      21\n",
            "Samuel         Tauro      20\n",
            "Bruno          Libra      20\n",
            "Javier   Capricornio      22\n",
            "Diego      Sagitario      20\n",
            "Xochitl       Cancer      21\n"
          ],
          "name": "stdout"
        }
      ]
    },
    {
      "cell_type": "markdown",
      "metadata": {
        "id": "JsNUDL5PtnTM"
      },
      "source": [
        "Histograma"
      ]
    },
    {
      "cell_type": "code",
      "metadata": {
        "colab": {
          "base_uri": "https://localhost:8080/",
          "height": 282
        },
        "id": "zNY2niuVhfqc",
        "outputId": "a8227df9-0d1f-4751-fb08-41e4291da8c9"
      },
      "source": [
        "df.Edades.hist() #Obtenemos un histograma de las edades."
      ],
      "execution_count": null,
      "outputs": [
        {
          "output_type": "execute_result",
          "data": {
            "text/plain": [
              "<matplotlib.axes._subplots.AxesSubplot at 0x7fd7d46ba610>"
            ]
          },
          "metadata": {
            "tags": []
          },
          "execution_count": 82
        },
        {
          "output_type": "display_data",
          "data": {
            "image/png": "[encoded data removed]",
            "text/plain": [
              "<Figure size 432x288 with 1 Axes>"
            ]
          },
          "metadata": {
            "tags": [],
            "needs_background": "light"
          }
        }
      ]
    },
    {
      "cell_type": "markdown",
      "metadata": {
        "id": "N_lEdCqwt93d"
      },
      "source": [
        "Accesando a columnas y filas de un dataframe"
      ]
    },
    {
      "cell_type": "code",
      "metadata": {
        "id": "cPWpBXiahfz6"
      },
      "source": [
        "df [\"Animal_Fav\"]= [\"Perro\",\"Gato\",\"Delfin\",\"Perro\",\"Serpiente\",\"Axolote\",\"Pulpo\"] #Agregamos una columna nueva con los datos correspondientes."
      ],
      "execution_count": null,
      "outputs": []
    },
    {
      "cell_type": "code",
      "metadata": {
        "id": "phXwmDDRieE7"
      },
      "source": [
        "df=df.drop(axis=1,labels=\"Animal_Fav\") #Borramos la columna Animal_Fav"
      ],
      "execution_count": null,
      "outputs": []
    },
    {
      "cell_type": "code",
      "metadata": {
        "id": "YIsR-EKyjD3o"
      },
      "source": [
        "df.loc[\"Sofia\",\"Animal_Fav\"]=\"perro\" #Ponemos que el animal favorito de Sofia es el perro."
      ],
      "execution_count": null,
      "outputs": []
    },
    {
      "cell_type": "code",
      "metadata": {
        "id": "8oOPUd35jZut"
      },
      "source": [
        "print(df) #Imprimimos el dataset."
      ],
      "execution_count": null,
      "outputs": []
    },
    {
      "cell_type": "code",
      "metadata": {
        "id": "pEZkPM1ykGra"
      },
      "source": [
        "df.iloc[2,2]=\"mono\" #En la fila 2, columna 2 insertamos mono.\n",
        "print(df) #Imprimimos el dataset."
      ],
      "execution_count": null,
      "outputs": []
    },
    {
      "cell_type": "markdown",
      "metadata": {
        "id": "b0SHDn8Nu2Q2"
      },
      "source": [
        "Guardando y descargando dataframes"
      ]
    },
    {
      "cell_type": "code",
      "metadata": {
        "id": "74wbW4bHltqW"
      },
      "source": [
        "df.to_csv(\"~\\Downloads\\Horoscopo_grupo.csv\",sep=\"\\t\") #Guardamos el dataframe en la carpeta Downloads separado por tabulador."
      ],
      "execution_count": null,
      "outputs": []
    },
    {
      "cell_type": "code",
      "metadata": {
        "id": "07FJCZDFmc8m"
      },
      "source": [
        "horoscopos=pd.read_csv(\"~\\Downloads\\Horoscopo_grupo.csv\",delimiter=\"\\t\") #Descargamos el dataframe y lo guardamos en horoscopos.\n"
      ],
      "execution_count": null,
      "outputs": []
    },
    {
      "cell_type": "code",
      "metadata": {
        "id": "X6R8MNHbmsmo"
      },
      "source": [
        "print(horoscopos) #Imprimimos el dataframe."
      ],
      "execution_count": null,
      "outputs": []
    },
    {
      "cell_type": "markdown",
      "metadata": {
        "id": "EgehA2nb_9bP"
      },
      "source": [
        "Control de flujo, lógica y filtrado\n"
      ]
    },
    {
      "cell_type": "code",
      "metadata": {
        "id": "vckkr2Sr_8Xb"
      },
      "source": [
        "2 == 2 #Comparación.\n",
        "2 != 1 #Diferente de.\n",
        "2 > 2 #Mayor que.\n",
        "2 < 2 #Menor que.\n",
        "2 <= 2 #Menor o igual que.\n",
        "2 >= 2 #Mayor o igual que."
      ],
      "execution_count": null,
      "outputs": []
    },
    {
      "cell_type": "markdown",
      "metadata": {
        "id": "zumWT6yFAy67"
      },
      "source": [
        "Operadores booleanos"
      ]
    },
    {
      "cell_type": "code",
      "metadata": {
        "id": "AoCqblKWAxA2",
        "colab": {
          "base_uri": "https://localhost:8080/"
        },
        "outputId": "18886325-d0ff-4a9c-e51f-6f588c11f61f"
      },
      "source": [
        "True and True  #True.\n"
      ],
      "execution_count": null,
      "outputs": [
        {
          "output_type": "execute_result",
          "data": {
            "text/plain": [
              "True"
            ]
          },
          "metadata": {},
          "execution_count": 1
        }
      ]
    },
    {
      "cell_type": "code",
      "metadata": {
        "id": "_9IXT4SUA4yj",
        "colab": {
          "base_uri": "https://localhost:8080/"
        },
        "outputId": "c38db8f1-9c8f-4915-abac-d16f6c9bdfcb"
      },
      "source": [
        "True and False #False."
      ],
      "execution_count": null,
      "outputs": [
        {
          "output_type": "execute_result",
          "data": {
            "text/plain": [
              "False"
            ]
          },
          "metadata": {},
          "execution_count": 2
        }
      ]
    },
    {
      "cell_type": "code",
      "metadata": {
        "id": "ytL6VrBvBEXD",
        "colab": {
          "base_uri": "https://localhost:8080/"
        },
        "outputId": "c2cb5594-3c03-49cd-b7e1-8a96621699bb"
      },
      "source": [
        "True or False #True.\n"
      ],
      "execution_count": null,
      "outputs": [
        {
          "output_type": "execute_result",
          "data": {
            "text/plain": [
              "True"
            ]
          },
          "metadata": {},
          "execution_count": 3
        }
      ]
    },
    {
      "cell_type": "code",
      "metadata": {
        "id": "h9RWGlyLBGOf",
        "colab": {
          "base_uri": "https://localhost:8080/"
        },
        "outputId": "e9a359bf-3779-4397-e1dd-2490bda0a2cd"
      },
      "source": [
        "not True #False."
      ],
      "execution_count": null,
      "outputs": [
        {
          "output_type": "execute_result",
          "data": {
            "text/plain": [
              "False"
            ]
          },
          "metadata": {},
          "execution_count": 4
        }
      ]
    },
    {
      "cell_type": "code",
      "metadata": {
        "id": "HdAKDBaVBZul",
        "colab": {
          "base_uri": "https://localhost:8080/"
        },
        "outputId": "f3f4e58b-44f2-4f77-9f73-8c359ccddfab"
      },
      "source": [
        "not False #True"
      ],
      "execution_count": null,
      "outputs": [
        {
          "output_type": "execute_result",
          "data": {
            "text/plain": [
              "True"
            ]
          },
          "metadata": {},
          "execution_count": 5
        }
      ]
    },
    {
      "cell_type": "markdown",
      "metadata": {
        "id": "wm-DbLL_vWOL"
      },
      "source": [
        "Filtrado de datos"
      ]
    },
    {
      "cell_type": "code",
      "metadata": {
        "id": "5uG04AJfCdWv"
      },
      "source": [
        "import numpy as np #Importamos numpy.\n",
        "import pandas as pd #Importamos pandas.\n",
        "import matplotlib.pyplot as plt #Importamos matplotlib.\n",
        "import seaborn as sns #Importamos seaborn.\n",
        "\n",
        "#np.logical.and Nos permite aplicar la operación and entre listas.\n",
        "#np.logical.or Nos permite aplicar la operación or entre listas.\n"
      ],
      "execution_count": null,
      "outputs": []
    },
    {
      "cell_type": "code",
      "metadata": {
        "id": "P550QdvsDs2E"
      },
      "source": [
        "df = pd.read_csv(\"train.csv\") #Leemos un csv."
      ],
      "execution_count": null,
      "outputs": []
    },
    {
      "cell_type": "markdown",
      "metadata": {
        "id": "Gg3SHCTcG8El"
      },
      "source": [
        "How does the survival rate of the passengers differ between sexes?\n"
      ]
    },
    {
      "cell_type": "code",
      "metadata": {
        "id": "nTFy9iagGhPy"
      },
      "source": [
        "survived= df[df.Survived==1] #Guardamos en survived a los individuos que sobrevivieron."
      ],
      "execution_count": null,
      "outputs": []
    },
    {
      "cell_type": "code",
      "metadata": {
        "colab": {
          "base_uri": "https://localhost:8080/"
        },
        "id": "TMQrmqMvIAoU",
        "outputId": "c089aef9-db5e-420f-e9a6-bba48d494a7c"
      },
      "source": [
        "female = survived[survived.Sex==\"female\"] #De los supervivientes seleccionamos a todas las mujeres.\n",
        "female.info() #Obtenemos información del dataframe."
      ],
      "execution_count": null,
      "outputs": [
        {
          "output_type": "stream",
          "text": [
            "<class 'pandas.core.frame.DataFrame'>\n",
            "Int64Index: 233 entries, 1 to 887\n",
            "Data columns (total 12 columns):\n",
            " #   Column       Non-Null Count  Dtype  \n",
            "---  ------       --------------  -----  \n",
            " 0   PassengerId  233 non-null    int64  \n",
            " 1   Survived     233 non-null    int64  \n",
            " 2   Pclass       233 non-null    int64  \n",
            " 3   Name         233 non-null    object \n",
            " 4   Sex          233 non-null    object \n",
            " 5   Age          197 non-null    float64\n",
            " 6   SibSp        233 non-null    int64  \n",
            " 7   Parch        233 non-null    int64  \n",
            " 8   Ticket       233 non-null    object \n",
            " 9   Fare         233 non-null    float64\n",
            " 10  Cabin        91 non-null     object \n",
            " 11  Embarked     231 non-null    object \n",
            "dtypes: float64(2), int64(5), object(5)\n",
            "memory usage: 23.7+ KB\n"
          ],
          "name": "stdout"
        }
      ]
    },
    {
      "cell_type": "code",
      "metadata": {
        "colab": {
          "base_uri": "https://localhost:8080/"
        },
        "id": "ppn4UZKjISgj",
        "outputId": "24ef5b7d-eb83-4ed9-eb7c-84f014852fd5"
      },
      "source": [
        "male = survived[survived.Sex==\"male\"] #De los supervivientes seleccionamos a todos los hombres.\n",
        "male.info() #Obtenemos información del dataframe."
      ],
      "execution_count": null,
      "outputs": [
        {
          "output_type": "stream",
          "text": [
            "<class 'pandas.core.frame.DataFrame'>\n",
            "Int64Index: 109 entries, 17 to 889\n",
            "Data columns (total 12 columns):\n",
            " #   Column       Non-Null Count  Dtype  \n",
            "---  ------       --------------  -----  \n",
            " 0   PassengerId  109 non-null    int64  \n",
            " 1   Survived     109 non-null    int64  \n",
            " 2   Pclass       109 non-null    int64  \n",
            " 3   Name         109 non-null    object \n",
            " 4   Sex          109 non-null    object \n",
            " 5   Age          93 non-null     float64\n",
            " 6   SibSp        109 non-null    int64  \n",
            " 7   Parch        109 non-null    int64  \n",
            " 8   Ticket       109 non-null    object \n",
            " 9   Fare         109 non-null    float64\n",
            " 10  Cabin        45 non-null     object \n",
            " 11  Embarked     109 non-null    object \n",
            "dtypes: float64(2), int64(5), object(5)\n",
            "memory usage: 11.1+ KB\n"
          ],
          "name": "stdout"
        }
      ]
    },
    {
      "cell_type": "markdown",
      "metadata": {
        "id": "XoK9imTmInds"
      },
      "source": [
        "Or how does it differ between the different classes?\n"
      ]
    },
    {
      "cell_type": "code",
      "metadata": {
        "colab": {
          "base_uri": "https://localhost:8080/"
        },
        "id": "JQJTouj-IsST",
        "outputId": "d6abec56-40a0-4b7a-97fc-9c28c58439ee"
      },
      "source": [
        "clase_tres=survived[survived.Pclass==3] #De los supervivientes seleccionamos a todos los individuos de la clase 3.\n",
        "clase_tres.info() #Obtenemos información del dataframe."
      ],
      "execution_count": null,
      "outputs": [
        {
          "output_type": "stream",
          "text": [
            "<class 'pandas.core.frame.DataFrame'>\n",
            "Int64Index: 119 entries, 2 to 875\n",
            "Data columns (total 12 columns):\n",
            " #   Column       Non-Null Count  Dtype  \n",
            "---  ------       --------------  -----  \n",
            " 0   PassengerId  119 non-null    int64  \n",
            " 1   Survived     119 non-null    int64  \n",
            " 2   Pclass       119 non-null    int64  \n",
            " 3   Name         119 non-null    object \n",
            " 4   Sex          119 non-null    object \n",
            " 5   Age          85 non-null     float64\n",
            " 6   SibSp        119 non-null    int64  \n",
            " 7   Parch        119 non-null    int64  \n",
            " 8   Ticket       119 non-null    object \n",
            " 9   Fare         119 non-null    float64\n",
            " 10  Cabin        6 non-null      object \n",
            " 11  Embarked     119 non-null    object \n",
            "dtypes: float64(2), int64(5), object(5)\n",
            "memory usage: 12.1+ KB\n"
          ],
          "name": "stdout"
        }
      ]
    },
    {
      "cell_type": "code",
      "metadata": {
        "colab": {
          "base_uri": "https://localhost:8080/"
        },
        "id": "c9Hzs7xBJO1Z",
        "outputId": "06b92283-17e5-4adb-e3dd-6d655aa1d667"
      },
      "source": [
        "clase_dos=survived[survived.Pclass==2] #De los supervivientes seleccionamos a todos los individuos de la clase 2.\n",
        "clase_dos.info() #Obtenemos información del dataframe."
      ],
      "execution_count": null,
      "outputs": [
        {
          "output_type": "stream",
          "text": [
            "<class 'pandas.core.frame.DataFrame'>\n",
            "Int64Index: 87 entries, 9 to 880\n",
            "Data columns (total 12 columns):\n",
            " #   Column       Non-Null Count  Dtype  \n",
            "---  ------       --------------  -----  \n",
            " 0   PassengerId  87 non-null     int64  \n",
            " 1   Survived     87 non-null     int64  \n",
            " 2   Pclass       87 non-null     int64  \n",
            " 3   Name         87 non-null     object \n",
            " 4   Sex          87 non-null     object \n",
            " 5   Age          83 non-null     float64\n",
            " 6   SibSp        87 non-null     int64  \n",
            " 7   Parch        87 non-null     int64  \n",
            " 8   Ticket       87 non-null     object \n",
            " 9   Fare         87 non-null     float64\n",
            " 10  Cabin        13 non-null     object \n",
            " 11  Embarked     87 non-null     object \n",
            "dtypes: float64(2), int64(5), object(5)\n",
            "memory usage: 8.8+ KB\n"
          ],
          "name": "stdout"
        }
      ]
    },
    {
      "cell_type": "code",
      "metadata": {
        "colab": {
          "base_uri": "https://localhost:8080/"
        },
        "id": "OpvqnkNGJPIu",
        "outputId": "bea7d223-25c1-417e-cacd-3eb4bca044f4"
      },
      "source": [
        "clase_uno=survived[survived.Pclass==1] #De los supervivientes seleccionamos a todos los individuos de la clase 1.\n",
        "clase_uno.info() #Obtenemos información del dataframe."
      ],
      "execution_count": null,
      "outputs": [
        {
          "output_type": "stream",
          "text": [
            "<class 'pandas.core.frame.DataFrame'>\n",
            "Int64Index: 136 entries, 1 to 889\n",
            "Data columns (total 12 columns):\n",
            " #   Column       Non-Null Count  Dtype  \n",
            "---  ------       --------------  -----  \n",
            " 0   PassengerId  136 non-null    int64  \n",
            " 1   Survived     136 non-null    int64  \n",
            " 2   Pclass       136 non-null    int64  \n",
            " 3   Name         136 non-null    object \n",
            " 4   Sex          136 non-null    object \n",
            " 5   Age          122 non-null    float64\n",
            " 6   SibSp        136 non-null    int64  \n",
            " 7   Parch        136 non-null    int64  \n",
            " 8   Ticket       136 non-null    object \n",
            " 9   Fare         136 non-null    float64\n",
            " 10  Cabin        117 non-null    object \n",
            " 11  Embarked     134 non-null    object \n",
            "dtypes: float64(2), int64(5), object(5)\n",
            "memory usage: 13.8+ KB\n"
          ],
          "name": "stdout"
        }
      ]
    },
    {
      "cell_type": "markdown",
      "metadata": {
        "id": "WcLACIHtwnGO"
      },
      "source": [
        "Creando gráficas con los datos filtrados"
      ]
    },
    {
      "cell_type": "code",
      "metadata": {
        "colab": {
          "base_uri": "https://localhost:8080/",
          "height": 295
        },
        "id": "9R3Es1COJdIe",
        "outputId": "ff28d9ab-6b5e-4208-c478-c3a68ec31932"
      },
      "source": [
        "fig, axes = plt.subplots(nrows=1, ncols=2,figsize=(10, 4)) #Creamos un subplot con 1 fila y 2 columnas.\n",
        "\n",
        "\n",
        "\n",
        "women = df[df['Sex']=='female'] #Seleccionamos a todas las mujeres.\n",
        "men = df[df['Sex']=='male'] #Seleccionamos a todos los hombres.\n",
        "\n",
        "\n",
        "\n",
        "ax = sns.histplot(women[women['Survived']==1].Age.dropna(), bins=6, label = 'survived', ax = axes[0], color = 'blue') #Creamos un histograma con las mujeres que sobrevivieron, quitamos datos faltantes, ponemos 6 separaciones, y la pintamos de color azul. \n",
        "\n",
        "ax = sns.histplot(women[women['Survived']==0].Age.dropna(), bins=20, label = 'not_survived', ax = axes[0], color = 'red', alpha = 0.3) #Creamos un histograma con las mujeres que no sobrevivieron, quitamos datos faltantes, ponemos 20 separaciones, la pintamos de color rojo y la solapamos con la anterior.\n",
        "ax.legend() #Agregamos una leyenda.\n",
        "ax.set_title('Female') #Le ponemos un título.\n",
        "ax = sns.histplot(men[men.Survived ==1].Age.dropna(), bins=20, label = 'survived', ax = axes[1], color='blue') #Realizamos los mismo que con las mujeres sólo que ahora con los hombres.\n",
        "ax = sns.histplot(men[men['Survived']==0].Age.dropna(), bins=20, label = 'not_survived', ax = axes[1], color = 'red', alpha = 0.3) #Realizamos los mismo que con las mujeres sólo que ahora con los hombres.\n",
        "ax.legend() #Añadimos leyenda.\n",
        "_ = ax.set_title('Male') #Le ponemos un título.\n"
      ],
      "execution_count": null,
      "outputs": [
        {
          "output_type": "display_data",
          "data": {
            "image/png": "[encoded data removed]",
            "text/plain": [
              "<Figure size 720x288 with 2 Axes>"
            ]
          },
          "metadata": {
            "needs_background": "light"
          }
        }
      ]
    },
    {
      "cell_type": "code",
      "metadata": {
        "colab": {
          "base_uri": "https://localhost:8080/",
          "height": 296
        },
        "id": "bQCvOQsNepdC",
        "outputId": "433af00b-ecbf-4ee5-b27e-9a8f8a5426ce"
      },
      "source": [
        "sns.barplot(x=\"Pclass\",y=\"Survived\",data=df) #Hacemos una gráfica de barras de la clase contra la supervivencia."
      ],
      "execution_count": null,
      "outputs": [
        {
          "output_type": "execute_result",
          "data": {
            "text/plain": [
              "<matplotlib.axes._subplots.AxesSubplot at 0x7f87421e5350>"
            ]
          },
          "metadata": {},
          "execution_count": 35
        },
        {
          "output_type": "display_data",
          "data": {
            "image/png": "[encoded data removed]",
            "text/plain": [
              "<Figure size 432x288 with 1 Axes>"
            ]
          },
          "metadata": {
            "needs_background": "light"
          }
        }
      ]
    },
    {
      "cell_type": "markdown",
      "metadata": {
        "id": "vKndZDm3xV9U"
      },
      "source": [
        "Agrupando los datos por llave"
      ]
    },
    {
      "cell_type": "code",
      "metadata": {
        "colab": {
          "base_uri": "https://localhost:8080/",
          "height": 328
        },
        "id": "6CCDh4uRfM-5",
        "outputId": "d9b4cc6a-75a0-4796-a487-6bbec2be725e"
      },
      "source": [
        "df = pd.DataFrame({'key':['A','B','C','A','B','C','A','B','C'], #Creamos un dataframe.\n",
        "                   'data': [0, 5, 10, 5, 10, 15, 10, 15, 20]})\n",
        "df #Lo mostramos.\n"
      ],
      "execution_count": null,
      "outputs": [
        {
          "output_type": "execute_result",
          "data": {
            "text/html": [
              "<div>\n",
              "<style scoped>\n",
              "    .dataframe tbody tr th:only-of-type {\n",
              "        vertical-align: middle;\n",
              "    }\n",
              "\n",
              "    .dataframe tbody tr th {\n",
              "        vertical-align: top;\n",
              "    }\n",
              "\n",
              "    .dataframe thead th {\n",
              "        text-align: right;\n",
              "    }\n",
              "</style>\n",
              "<table border=\"1\" class=\"dataframe\">\n",
              "  <thead>\n",
              "    <tr style=\"text-align: right;\">\n",
              "      <th></th>\n",
              "      <th>key</th>\n",
              "      <th>data</th>\n",
              "    </tr>\n",
              "  </thead>\n",
              "  <tbody>\n",
              "    <tr>\n",
              "      <th>0</th>\n",
              "      <td>A</td>\n",
              "      <td>0</td>\n",
              "    </tr>\n",
              "    <tr>\n",
              "      <th>1</th>\n",
              "      <td>B</td>\n",
              "      <td>5</td>\n",
              "    </tr>\n",
              "    <tr>\n",
              "      <th>2</th>\n",
              "      <td>C</td>\n",
              "      <td>10</td>\n",
              "    </tr>\n",
              "    <tr>\n",
              "      <th>3</th>\n",
              "      <td>A</td>\n",
              "      <td>5</td>\n",
              "    </tr>\n",
              "    <tr>\n",
              "      <th>4</th>\n",
              "      <td>B</td>\n",
              "      <td>10</td>\n",
              "    </tr>\n",
              "    <tr>\n",
              "      <th>5</th>\n",
              "      <td>C</td>\n",
              "      <td>15</td>\n",
              "    </tr>\n",
              "    <tr>\n",
              "      <th>6</th>\n",
              "      <td>A</td>\n",
              "      <td>10</td>\n",
              "    </tr>\n",
              "    <tr>\n",
              "      <th>7</th>\n",
              "      <td>B</td>\n",
              "      <td>15</td>\n",
              "    </tr>\n",
              "    <tr>\n",
              "      <th>8</th>\n",
              "      <td>C</td>\n",
              "      <td>20</td>\n",
              "    </tr>\n",
              "  </tbody>\n",
              "</table>\n",
              "</div>"
            ],
            "text/plain": [
              "  key  data\n",
              "0   A     0\n",
              "1   B     5\n",
              "2   C    10\n",
              "3   A     5\n",
              "4   B    10\n",
              "5   C    15\n",
              "6   A    10\n",
              "7   B    15\n",
              "8   C    20"
            ]
          },
          "metadata": {},
          "execution_count": 36
        }
      ]
    },
    {
      "cell_type": "code",
      "metadata": {
        "colab": {
          "base_uri": "https://localhost:8080/"
        },
        "id": "-kmwdyl2fOsJ",
        "outputId": "1c43c4a9-29d0-4737-afd4-127374d852d3"
      },
      "source": [
        "df.data.sum() #Sumamos la columna data."
      ],
      "execution_count": null,
      "outputs": [
        {
          "output_type": "execute_result",
          "data": {
            "text/plain": [
              "90"
            ]
          },
          "metadata": {},
          "execution_count": 37
        }
      ]
    },
    {
      "cell_type": "code",
      "metadata": {
        "colab": {
          "base_uri": "https://localhost:8080/",
          "height": 173
        },
        "id": "Xa0uNNgWf6iU",
        "outputId": "ccb224de-a9b4-49ef-ef15-a636e92be706"
      },
      "source": [
        "df.groupby(\"key\").sum() #Sumamos de acuerdo a la llave."
      ],
      "execution_count": null,
      "outputs": [
        {
          "output_type": "execute_result",
          "data": {
            "text/html": [
              "<div>\n",
              "<style scoped>\n",
              "    .dataframe tbody tr th:only-of-type {\n",
              "        vertical-align: middle;\n",
              "    }\n",
              "\n",
              "    .dataframe tbody tr th {\n",
              "        vertical-align: top;\n",
              "    }\n",
              "\n",
              "    .dataframe thead th {\n",
              "        text-align: right;\n",
              "    }\n",
              "</style>\n",
              "<table border=\"1\" class=\"dataframe\">\n",
              "  <thead>\n",
              "    <tr style=\"text-align: right;\">\n",
              "      <th></th>\n",
              "      <th>data</th>\n",
              "    </tr>\n",
              "    <tr>\n",
              "      <th>key</th>\n",
              "      <th></th>\n",
              "    </tr>\n",
              "  </thead>\n",
              "  <tbody>\n",
              "    <tr>\n",
              "      <th>A</th>\n",
              "      <td>15</td>\n",
              "    </tr>\n",
              "    <tr>\n",
              "      <th>B</th>\n",
              "      <td>30</td>\n",
              "    </tr>\n",
              "    <tr>\n",
              "      <th>C</th>\n",
              "      <td>45</td>\n",
              "    </tr>\n",
              "  </tbody>\n",
              "</table>\n",
              "</div>"
            ],
            "text/plain": [
              "     data\n",
              "key      \n",
              "A      15\n",
              "B      30\n",
              "C      45"
            ]
          },
          "metadata": {},
          "execution_count": 38
        }
      ]
    },
    {
      "cell_type": "markdown",
      "metadata": {
        "id": "zuq0PN9dgjei"
      },
      "source": [
        "While loops"
      ]
    },
    {
      "cell_type": "code",
      "metadata": {
        "colab": {
          "base_uri": "https://localhost:8080/"
        },
        "id": "E_k8E50Fgl7f",
        "outputId": "10744784-9b28-45aa-9062-67096f74ef66"
      },
      "source": [
        "error=50 #Asignamos a error un valor.\n",
        "while error >1: #Mientras error sea mayor que uno, se hará lo siguiente.\n",
        "  error=error/4 #Se divide error entre 4 y se guarda en error.\n",
        "  print(error) #Se imprime error.\n"
      ],
      "execution_count": null,
      "outputs": [
        {
          "output_type": "stream",
          "text": [
            "12.5\n",
            "3.125\n",
            "0.78125\n"
          ],
          "name": "stdout"
        }
      ]
    },
    {
      "cell_type": "markdown",
      "metadata": {
        "id": "d5UzrHHOhGRa"
      },
      "source": [
        "Importando archivos"
      ]
    },
    {
      "cell_type": "code",
      "metadata": {
        "id": "i3uK-zsbhO9y"
      },
      "source": [
        "#file= open(filename,mode) #Abrimos un archivo en un determinado modo."
      ],
      "execution_count": null,
      "outputs": []
    },
    {
      "cell_type": "code",
      "metadata": {
        "colab": {
          "base_uri": "https://localhost:8080/",
          "height": 35
        },
        "id": "SGLf_1VihpLO",
        "outputId": "a2ea45b8-8b46-4a8d-b1fd-2e65b0baa9a7"
      },
      "source": [
        "\"\"\"with open(filename,mode) as file: #Abrimos el archivo.\n",
        "  print(filename.read())\"\"\" #Una vez que termine de ejecutar esta línea el archivo se cerrará."
      ],
      "execution_count": null,
      "outputs": [
        {
          "output_type": "execute_result",
          "data": {
            "application/vnd.google.colaboratory.intrinsic+json": {
              "type": "string"
            },
            "text/plain": [
              "'with open(filename,mode) as file:\\n  print(filename.read())'"
            ]
          },
          "metadata": {},
          "execution_count": 43
        }
      ]
    },
    {
      "cell_type": "markdown",
      "metadata": {
        "id": "v11MY3SKiJkY"
      },
      "source": [
        "Archivos SAS "
      ]
    },
    {
      "cell_type": "code",
      "metadata": {
        "id": "pysGa-tiiMWv"
      },
      "source": [
        "\"\"\"import pandas as pd #Importamos pandas.\n",
        "from sas7bdat import SAS7BDAT Importamos SAS7BDAT.\n",
        "with SAS7BDAT('sales.sas7bdat') as file: #Abrimos el archivo.\n",
        "    df_sas = file.to_data_frame()\"\"\" #Se cerrará cuando se termine de ejecutar esta línea.\n"
      ],
      "execution_count": null,
      "outputs": []
    },
    {
      "cell_type": "markdown",
      "metadata": {
        "id": "AHjhKJLwjzSg"
      },
      "source": [
        "Archivos STATA "
      ]
    },
    {
      "cell_type": "code",
      "metadata": {
        "id": "LmGqRByFjwHK"
      },
      "source": [
        "#data=pd.read_stata(\"disarea.dta\") #Leemos un archivo .stata."
      ],
      "execution_count": null,
      "outputs": []
    },
    {
      "cell_type": "markdown",
      "metadata": {
        "id": "oYZM8k96yu1M"
      },
      "source": [
        "Bases de Datos"
      ]
    },
    {
      "cell_type": "code",
      "metadata": {
        "id": "MVbL0-yrmNKh"
      },
      "source": [
        "from sqlalchemy import create_engine #Importamos create_engine.\n",
        "engine= create_engine(\"sqlite:///Chinook.sqlite\") #Creamos el engine de un determinado archivo."
      ],
      "execution_count": null,
      "outputs": []
    },
    {
      "cell_type": "code",
      "metadata": {
        "id": "jSWylEA3nKh5"
      },
      "source": [
        "con=engine.connect() #Creamos el objeto de conexión con el engine.\n",
        "rs=con.execute(\"SELECT * FROM Invoice\") #Seleccionamos todo de la tabla Invoice. #Este es el comando largo."
      ],
      "execution_count": null,
      "outputs": []
    },
    {
      "cell_type": "code",
      "metadata": {
        "id": "QmXRWZTznuDh"
      },
      "source": [
        "df=pd.DataFrame(rs.fetchall()) #Transformamos la tabla invoice en un dataframe. \n"
      ],
      "execution_count": null,
      "outputs": []
    },
    {
      "cell_type": "code",
      "metadata": {
        "colab": {
          "base_uri": "https://localhost:8080/"
        },
        "id": "RBpUYACxopRi",
        "outputId": "85fec9e7-5973-4a49-ab63-1f26e8c0bc5a"
      },
      "source": [
        "print(df) #La imprimimos."
      ],
      "execution_count": null,
      "outputs": [
        {
          "output_type": "stream",
          "text": [
            "       0   1                    2  ...         6        7      8\n",
            "0      1   2  2007-01-01 00:00:00  ...   Germany    70174   1.98\n",
            "1      2   4  2007-01-02 00:00:00  ...    Norway     0171   3.96\n",
            "2      3   8  2007-01-03 00:00:00  ...   Belgium     1000   5.94\n",
            "3      4  14  2007-01-06 00:00:00  ...    Canada  T6G 2C7   8.91\n",
            "4      5  23  2007-01-11 00:00:00  ...       USA     2113  13.86\n",
            "..   ...  ..                  ...  ...       ...      ...    ...\n",
            "407  408  25  2011-12-05 00:00:00  ...       USA    53703   3.96\n",
            "408  409  29  2011-12-06 00:00:00  ...    Canada  M6J 1V1   5.94\n",
            "409  410  35  2011-12-09 00:00:00  ...  Portugal     None   8.91\n",
            "410  411  44  2011-12-14 00:00:00  ...   Finland    00530  13.86\n",
            "411  412  58  2011-12-22 00:00:00  ...     India   110017   1.99\n",
            "\n",
            "[412 rows x 9 columns]\n"
          ],
          "name": "stdout"
        }
      ]
    },
    {
      "cell_type": "code",
      "metadata": {
        "id": "I18MUFpqnpaq"
      },
      "source": [
        "df.columns = rs.keys() #Hacemos que las columnas del dataset sean las llaves de rs."
      ],
      "execution_count": null,
      "outputs": []
    },
    {
      "cell_type": "code",
      "metadata": {
        "id": "QFvg1ovTo7lE"
      },
      "source": [
        "con.close() #Cerramos la conexión."
      ],
      "execution_count": null,
      "outputs": []
    },
    {
      "cell_type": "code",
      "metadata": {
        "id": "NhnTDK93qHMW"
      },
      "source": [
        "df = pd.read_sql_query(\"SELECT InvoiceDate,\tBillingAddress,\tBillingCity FROM Invoice\", engine) #Esta es la forma de leer un query en python. #Sin conexión.\n"
      ],
      "execution_count": null,
      "outputs": []
    },
    {
      "cell_type": "code",
      "metadata": {
        "id": "o6oUT4b9rKJR"
      },
      "source": [
        "engine= create_engine(\"sqlite:///Chinook.sqlite\") #Volvemos a crear un engine.\n",
        "con=engine.connect() #Creamos el objeto de conexión con el engine.\n"
      ],
      "execution_count": null,
      "outputs": []
    },
    {
      "cell_type": "code",
      "metadata": {
        "id": "RLc6_BcUrm8X"
      },
      "source": [
        "rs=con.execute(\"SELECT * FROM Artist ar INNER JOIN Album al on ar.ArtistID = al.ArtistID\") #Hacemos un join entre la tabla artist y la tabla album para todos los elementos que coincidan en el id del artista.\n",
        "df=pd.DataFrame(rs.fetchall()) #Hacemos de rs un dataframe."
      ],
      "execution_count": null,
      "outputs": []
    },
    {
      "cell_type": "code",
      "metadata": {
        "id": "ncsMuVHdteH0"
      },
      "source": [
        "df.columns=rs.keys() #Hacemos que las columnas del dataset sean las llaves de rs."
      ],
      "execution_count": null,
      "outputs": []
    },
    {
      "cell_type": "code",
      "metadata": {
        "colab": {
          "base_uri": "https://localhost:8080/",
          "height": 419
        },
        "id": "zowZCW1etk0q",
        "outputId": "45965e60-71cf-435a-b7b1-26ef07a9860a"
      },
      "source": [
        "df #Mostramos el dataset."
      ],
      "execution_count": null,
      "outputs": [
        {
          "output_type": "execute_result",
          "data": {
            "text/html": [
              "<div>\n",
              "<style scoped>\n",
              "    .dataframe tbody tr th:only-of-type {\n",
              "        vertical-align: middle;\n",
              "    }\n",
              "\n",
              "    .dataframe tbody tr th {\n",
              "        vertical-align: top;\n",
              "    }\n",
              "\n",
              "    .dataframe thead th {\n",
              "        text-align: right;\n",
              "    }\n",
              "</style>\n",
              "<table border=\"1\" class=\"dataframe\">\n",
              "  <thead>\n",
              "    <tr style=\"text-align: right;\">\n",
              "      <th></th>\n",
              "      <th>ArtistId</th>\n",
              "      <th>Name</th>\n",
              "      <th>AlbumId</th>\n",
              "      <th>Title</th>\n",
              "      <th>ArtistId</th>\n",
              "    </tr>\n",
              "  </thead>\n",
              "  <tbody>\n",
              "    <tr>\n",
              "      <th>0</th>\n",
              "      <td>1</td>\n",
              "      <td>AC/DC</td>\n",
              "      <td>1</td>\n",
              "      <td>For Those About To Rock We Salute You</td>\n",
              "      <td>1</td>\n",
              "    </tr>\n",
              "    <tr>\n",
              "      <th>1</th>\n",
              "      <td>2</td>\n",
              "      <td>Accept</td>\n",
              "      <td>2</td>\n",
              "      <td>Balls to the Wall</td>\n",
              "      <td>2</td>\n",
              "    </tr>\n",
              "    <tr>\n",
              "      <th>2</th>\n",
              "      <td>2</td>\n",
              "      <td>Accept</td>\n",
              "      <td>3</td>\n",
              "      <td>Restless and Wild</td>\n",
              "      <td>2</td>\n",
              "    </tr>\n",
              "    <tr>\n",
              "      <th>3</th>\n",
              "      <td>1</td>\n",
              "      <td>AC/DC</td>\n",
              "      <td>4</td>\n",
              "      <td>Let There Be Rock</td>\n",
              "      <td>1</td>\n",
              "    </tr>\n",
              "    <tr>\n",
              "      <th>4</th>\n",
              "      <td>3</td>\n",
              "      <td>Aerosmith</td>\n",
              "      <td>5</td>\n",
              "      <td>Big Ones</td>\n",
              "      <td>3</td>\n",
              "    </tr>\n",
              "    <tr>\n",
              "      <th>...</th>\n",
              "      <td>...</td>\n",
              "      <td>...</td>\n",
              "      <td>...</td>\n",
              "      <td>...</td>\n",
              "      <td>...</td>\n",
              "    </tr>\n",
              "    <tr>\n",
              "      <th>342</th>\n",
              "      <td>226</td>\n",
              "      <td>Eugene Ormandy</td>\n",
              "      <td>343</td>\n",
              "      <td>Respighi:Pines of Rome</td>\n",
              "      <td>226</td>\n",
              "    </tr>\n",
              "    <tr>\n",
              "      <th>343</th>\n",
              "      <td>272</td>\n",
              "      <td>Emerson String Quartet</td>\n",
              "      <td>344</td>\n",
              "      <td>Schubert: The Late String Quartets &amp; String Qu...</td>\n",
              "      <td>272</td>\n",
              "    </tr>\n",
              "    <tr>\n",
              "      <th>344</th>\n",
              "      <td>273</td>\n",
              "      <td>C. Monteverdi, Nigel Rogers - Chiaroscuro; Lon...</td>\n",
              "      <td>345</td>\n",
              "      <td>Monteverdi: L'Orfeo</td>\n",
              "      <td>273</td>\n",
              "    </tr>\n",
              "    <tr>\n",
              "      <th>345</th>\n",
              "      <td>274</td>\n",
              "      <td>Nash Ensemble</td>\n",
              "      <td>346</td>\n",
              "      <td>Mozart: Chamber Music</td>\n",
              "      <td>274</td>\n",
              "    </tr>\n",
              "    <tr>\n",
              "      <th>346</th>\n",
              "      <td>275</td>\n",
              "      <td>Philip Glass Ensemble</td>\n",
              "      <td>347</td>\n",
              "      <td>Koyaanisqatsi (Soundtrack from the Motion Pict...</td>\n",
              "      <td>275</td>\n",
              "    </tr>\n",
              "  </tbody>\n",
              "</table>\n",
              "<p>347 rows × 5 columns</p>\n",
              "</div>"
            ],
            "text/plain": [
              "    ArtistId  ... ArtistId\n",
              "0          1  ...        1\n",
              "1          2  ...        2\n",
              "2          2  ...        2\n",
              "3          1  ...        1\n",
              "4          3  ...        3\n",
              "..       ...  ...      ...\n",
              "342      226  ...      226\n",
              "343      272  ...      272\n",
              "344      273  ...      273\n",
              "345      274  ...      274\n",
              "346      275  ...      275\n",
              "\n",
              "[347 rows x 5 columns]"
            ]
          },
          "metadata": {},
          "execution_count": 67
        }
      ]
    }
  ]
}