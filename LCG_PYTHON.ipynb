{
  "nbformat": 4,
  "nbformat_minor": 0,
  "metadata": {
    "colab": {
      "name": "LCG_PYTHON",
      "provenance": [],
      "authorship_tag": "ABX9TyO7PiAoxImIC8ujN0hurLBc",
      "include_colab_link": true
    },
    "kernelspec": {
      "name": "python3",
      "display_name": "Python 3"
    },
    "language_info": {
      "name": "python"
    }
  },
  "cells": [
    {
      "cell_type": "markdown",
      "metadata": {
        "id": "view-in-github",
        "colab_type": "text"
      },
      "source": [
        "<a href=\"https://colab.research.google.com/github/squinones123/planets/blob/master/LCG_PYTHON.ipynb\" target=\"_parent\"><img src=\"https://colab.research.google.com/assets/colab-badge.svg\" alt=\"Open In Colab\"/></a>"
      ]
    },
    {
      "cell_type": "code",
      "metadata": {
        "colab": {
          "base_uri": "https://localhost:8080/"
        },
        "id": "EQapGHrYt4Vv",
        "outputId": "ce09a5cb-2d08-4a65-9bd7-16a196342aaa"
      },
      "source": [
        "x=5\n",
        "print(x,type(x))\n",
        "\n"
      ],
      "execution_count": 2,
      "outputs": [
        {
          "output_type": "stream",
          "text": [
            "5 <class 'int'>\n"
          ],
          "name": "stdout"
        }
      ]
    },
    {
      "cell_type": "code",
      "metadata": {
        "id": "u_8Dc8CgvqOw"
      },
      "source": [
        "print(x+3)\n",
        "print(x-3)\n",
        "print(x*3)\n",
        "print(x**3)"
      ],
      "execution_count": null,
      "outputs": []
    },
    {
      "cell_type": "code",
      "metadata": {
        "id": "IsityVqPuApt"
      },
      "source": [
        "print(x)\n",
        "x += 1\n",
        "print(x)\n",
        "x *=2\n",
        "print(x)"
      ],
      "execution_count": null,
      "outputs": []
    },
    {
      "cell_type": "code",
      "metadata": {
        "id": "sc2JTTTav0TS"
      },
      "source": [
        "y = 2.5\n",
        "print(type(y))\n",
        "print(y, y+1,y*2,y**2)"
      ],
      "execution_count": null,
      "outputs": []
    },
    {
      "cell_type": "code",
      "metadata": {
        "colab": {
          "base_uri": "https://localhost:8080/"
        },
        "id": "jjpl-0C_wB4o",
        "outputId": "d4bad853-cb9d-4d68-8905-f369fb14c789"
      },
      "source": [
        "t,f=True,False\n",
        "print(type(t))\n"
      ],
      "execution_count": 3,
      "outputs": [
        {
          "output_type": "stream",
          "text": [
            "<class 'bool'>\n"
          ],
          "name": "stdout"
        }
      ]
    },
    {
      "cell_type": "code",
      "metadata": {
        "colab": {
          "base_uri": "https://localhost:8080/"
        },
        "id": "zJXNpKRwwQxv",
        "outputId": "c7e163d4-9e29-468c-dbb5-5cac6c4b903f"
      },
      "source": [
        "print(t and f)\n",
        "print(t or f)\n",
        "print(not t)\n",
        "print(t != f)\n",
        "\n"
      ],
      "execution_count": 4,
      "outputs": [
        {
          "output_type": "stream",
          "text": [
            "False\n",
            "True\n",
            "False\n",
            "True\n"
          ],
          "name": "stdout"
        }
      ]
    },
    {
      "cell_type": "code",
      "metadata": {
        "id": "5OiJ6rTgwfiP"
      },
      "source": [
        "hello = \"hello\"\n",
        "world = \"world\"\n",
        "print(hello, len(hello))"
      ],
      "execution_count": null,
      "outputs": []
    },
    {
      "cell_type": "code",
      "metadata": {
        "id": "mJLBJb3rxXen"
      },
      "source": [
        "hw= hello + \" \" + world\n",
        "print(hw)"
      ],
      "execution_count": null,
      "outputs": []
    },
    {
      "cell_type": "code",
      "metadata": {
        "colab": {
          "base_uri": "https://localhost:8080/"
        },
        "id": "qoH4FctfxcK9",
        "outputId": "61ad5e51-857e-492d-8099-78d9abb84ec9"
      },
      "source": [
        "s= \"hello\"\n",
        "print(s.capitalize())\n",
        "print(s.upper())\n",
        "print(s.rjust(7))\n",
        "print(s.center(7))\n",
        "print(s.replace(\"l\", \"(ell)\"))\n",
        "print(\"world\".strip())"
      ],
      "execution_count": 6,
      "outputs": [
        {
          "output_type": "stream",
          "text": [
            "Hello\n",
            "HELLO\n",
            "  hello\n",
            " hello \n",
            "he(ell)(ell)o\n",
            "world\n"
          ],
          "name": "stdout"
        }
      ]
    },
    {
      "cell_type": "code",
      "metadata": {
        "id": "2hasOzBRyGFB"
      },
      "source": [
        "xs = [0,1,2,3]\n",
        "print(xs,xs[2])\n",
        "print(xs[-1])"
      ],
      "execution_count": null,
      "outputs": []
    },
    {
      "cell_type": "code",
      "metadata": {
        "id": "5iqw0PhFyUXE"
      },
      "source": [
        "xs[2]=\"fox2\"\n",
        "print(xs)\n"
      ],
      "execution_count": null,
      "outputs": []
    },
    {
      "cell_type": "code",
      "metadata": {
        "id": "AiRaznwuyYuE"
      },
      "source": [
        "xs.append(\"bar\")\n",
        "print(xs)"
      ],
      "execution_count": null,
      "outputs": []
    },
    {
      "cell_type": "code",
      "metadata": {
        "id": "ApWyArroyksU"
      },
      "source": [
        "x=xs.pop()\n",
        "print(x,xs)"
      ],
      "execution_count": null,
      "outputs": []
    },
    {
      "cell_type": "code",
      "metadata": {
        "colab": {
          "base_uri": "https://localhost:8080/"
        },
        "id": "oAgQA-EXyozq",
        "outputId": "28a66259-05c3-4ce5-c65a-6b3c10fee045"
      },
      "source": [
        "nums= list(range(5))\n",
        "print(nums)\n",
        "print(nums[2:4])\n",
        "print(nums[2:])\n",
        "print(nums[:2])\n",
        "print(nums[:])\n",
        "print(nums[:-1])\n",
        "nums[2:4]= [8,9]\n",
        "print(nums)\n",
        "\n",
        "\n"
      ],
      "execution_count": 7,
      "outputs": [
        {
          "output_type": "stream",
          "text": [
            "[0, 1, 2, 3, 4]\n",
            "[2, 3]\n",
            "[2, 3, 4]\n",
            "[0, 1]\n",
            "[0, 1, 2, 3, 4]\n",
            "[0, 1, 2, 3]\n",
            "[0, 1, 8, 9, 4]\n"
          ],
          "name": "stdout"
        }
      ]
    },
    {
      "cell_type": "code",
      "metadata": {
        "colab": {
          "base_uri": "https://localhost:8080/"
        },
        "id": "A7HNw_AZzzWq",
        "outputId": "1de01493-3752-4b21-e8ba-137a2b52a29b"
      },
      "source": [
        "animales = [\"gato\", \"perro\", \"chango\"]\n",
        "for animal in animales:\n",
        "  print(animal)"
      ],
      "execution_count": 8,
      "outputs": [
        {
          "output_type": "stream",
          "text": [
            "gato\n",
            "perro\n",
            "chango\n"
          ],
          "name": "stdout"
        }
      ]
    },
    {
      "cell_type": "code",
      "metadata": {
        "colab": {
          "base_uri": "https://localhost:8080/"
        },
        "id": "YaCaoYC30Tb_",
        "outputId": "ff471771-83a0-4e58-a60e-b1924689f727"
      },
      "source": [
        "animales = [\"gato\", \"perro\", \"chango\"]\n",
        "for idx, animal in enumerate(animales):\n",
        "  print(\"#{}: {}\".format(idx+1,animal))\n",
        " \n"
      ],
      "execution_count": 11,
      "outputs": [
        {
          "output_type": "stream",
          "text": [
            "#1: gato\n",
            "0 gato\n",
            "#2: perro\n",
            "1 perro\n",
            "#3: chango\n",
            "2 chango\n"
          ],
          "name": "stdout"
        }
      ]
    },
    {
      "cell_type": "code",
      "metadata": {
        "colab": {
          "base_uri": "https://localhost:8080/"
        },
        "id": "nhdb6_v32OVn",
        "outputId": "541a73fa-bafd-49b7-845f-a46ba65ccf5f"
      },
      "source": [
        "nums=[0,1,2,3,4]\n",
        "squares=[]\n",
        "for x in nums:\n",
        "  squares.append(x**2)\n",
        "print(squares)"
      ],
      "execution_count": 12,
      "outputs": [
        {
          "output_type": "stream",
          "text": [
            "[0, 1, 4, 9, 16]\n"
          ],
          "name": "stdout"
        }
      ]
    },
    {
      "cell_type": "code",
      "metadata": {
        "id": "TCDpmRFS1LnZ"
      },
      "source": [
        "nums=[0,1,2,3,4]\n",
        "squares=[x**2 for x in nums]\n",
        "print(squares)\n"
      ],
      "execution_count": null,
      "outputs": []
    },
    {
      "cell_type": "code",
      "metadata": {
        "colab": {
          "base_uri": "https://localhost:8080/"
        },
        "id": "GeSfBgH43LJR",
        "outputId": "6f6486d4-5b11-44ee-9157-cdd6087b1c64"
      },
      "source": [
        "nums=[0,1,2,3,4]\n",
        "even_squares= [x**2 for x in nums if x%2==0]\n",
        "print(even_squares)\n"
      ],
      "execution_count": 14,
      "outputs": [
        {
          "output_type": "stream",
          "text": [
            "[0, 4, 16]\n"
          ],
          "name": "stdout"
        }
      ]
    },
    {
      "cell_type": "code",
      "metadata": {
        "colab": {
          "base_uri": "https://localhost:8080/"
        },
        "id": "umjjsoxE1ESX",
        "outputId": "13da37af-82f1-44f5-ddd6-5120423e3766"
      },
      "source": [
        "d = {\"gato\": \"arena\", \"perro\": \"parque\"}\n",
        "print(d[\"gato\"])\n",
        "print(\"gato\" in d)"
      ],
      "execution_count": 15,
      "outputs": [
        {
          "output_type": "stream",
          "text": [
            "arena\n",
            "True\n"
          ],
          "name": "stdout"
        }
      ]
    },
    {
      "cell_type": "code",
      "metadata": {
        "id": "0Y6fcYAj4MHN"
      },
      "source": [
        "d[\"pez\"]=\"agua\"\n",
        "print(d[\"pez\"])"
      ],
      "execution_count": null,
      "outputs": []
    },
    {
      "cell_type": "code",
      "metadata": {
        "id": "Et8H_f7r4Sfg"
      },
      "source": [
        "print(d[\"chango\"])\n"
      ],
      "execution_count": null,
      "outputs": []
    },
    {
      "cell_type": "code",
      "metadata": {
        "id": "YrEquvWN4YwQ"
      },
      "source": [
        "print(d.get(\"chango\",\"N/A\"))\n",
        "print(d.get(\"pez\",\"N/A\"))\n"
      ],
      "execution_count": null,
      "outputs": []
    },
    {
      "cell_type": "code",
      "metadata": {
        "id": "xeHC1VZm5HJ_"
      },
      "source": [
        "del d[\"pez\"]\n",
        "print(d.get(\"pez\",\"N/A\"))\n"
      ],
      "execution_count": null,
      "outputs": []
    },
    {
      "cell_type": "code",
      "metadata": {
        "id": "s0dG67Di5hL3"
      },
      "source": [
        "d={\"humano\":2,\"gato\":4,\"aracnido\":8}\n",
        "for animal,patas in d.items():\n",
        "  print(\"Un {} tiene {} patas\".format(animal,patas))\n",
        "  "
      ],
      "execution_count": null,
      "outputs": []
    },
    {
      "cell_type": "code",
      "metadata": {
        "id": "kXovNDWr6Dn9"
      },
      "source": [
        "nums=[0,1,2,3,4]\n",
        "pares_a_cuadrados={x: x**2 for x in nums if x %2==0}\n",
        "print(pares_a_cuadrados)"
      ],
      "execution_count": null,
      "outputs": []
    },
    {
      "cell_type": "code",
      "metadata": {
        "id": "CI0vy2dL6c58"
      },
      "source": [
        "animales={\"gato\",\"perro\"}\n",
        "print(\"gato\"in animales)\n",
        "print(\"pez\"in animales)\n",
        "\n"
      ],
      "execution_count": null,
      "outputs": []
    },
    {
      "cell_type": "code",
      "metadata": {
        "id": "eHYRt9wr6rc3"
      },
      "source": [
        "animales.add(\"pez\")\n",
        "print(\"pez\"in animales)\n",
        "print(len(animales))\n"
      ],
      "execution_count": null,
      "outputs": []
    },
    {
      "cell_type": "code",
      "metadata": {
        "id": "8WYwr2HS6zll"
      },
      "source": [
        "animales.add(\"gato\")\n",
        "print(len(animales))\n",
        "animales.remove(\"gato\")\n",
        "print(len(animales))\n"
      ],
      "execution_count": null,
      "outputs": []
    },
    {
      "cell_type": "code",
      "metadata": {
        "id": "jd51CjNr7T9z"
      },
      "source": [
        "an"
      ],
      "execution_count": null,
      "outputs": []
    },
    {
      "cell_type": "code",
      "metadata": {
        "id": "owVClBQv7U2N"
      },
      "source": [
        "animales={\"gato\",\"perro\",\"pez\"}\n",
        "for idx, animal in enumerate(animales):\n",
        "  print(\"#{}: {}\".format(idx+1,animal))\n",
        "\n",
        "  \n"
      ],
      "execution_count": null,
      "outputs": []
    },
    {
      "cell_type": "code",
      "metadata": {
        "colab": {
          "base_uri": "https://localhost:8080/"
        },
        "id": "4gyZSLnx78bi",
        "outputId": "dd89f64d-4778-44fc-83bf-6340e8ac86f7"
      },
      "source": [
        "from math import sqrt\n",
        "print({int(sqrt(x)) for x in range(30)})"
      ],
      "execution_count": 17,
      "outputs": [
        {
          "output_type": "stream",
          "text": [
            "{0, 1, 2, 3, 4, 5}\n"
          ],
          "name": "stdout"
        }
      ]
    },
    {
      "cell_type": "code",
      "metadata": {
        "id": "Lo7UUWa-8eUz"
      },
      "source": [
        "d = {(x,x+1): x for x in range(10)}\n",
        "t=(5,6)\n",
        "print(type(t))\n",
        "print(d[t])\n",
        "print(d[(1,2)])"
      ],
      "execution_count": null,
      "outputs": []
    },
    {
      "cell_type": "code",
      "metadata": {
        "id": "bc-kB1eP84VM"
      },
      "source": [
        "t[0]=1"
      ],
      "execution_count": null,
      "outputs": []
    },
    {
      "cell_type": "code",
      "metadata": {
        "colab": {
          "base_uri": "https://localhost:8080/"
        },
        "id": "AFUhJIHI9oWS",
        "outputId": "7c2ad1d6-cf7f-47e4-e238-b2c682a4529a"
      },
      "source": [
        "def sign(x):\n",
        "  if x > 0:\n",
        "    return \"positive\"\n",
        "  elif x < 0:\n",
        "    return \"negative\"\n",
        "  else:\n",
        "    return \"zero\"\n",
        "\n",
        "for x in [-1,0,1]:\n",
        "  print(sign(x))\n"
      ],
      "execution_count": 18,
      "outputs": [
        {
          "output_type": "stream",
          "text": [
            "negative\n",
            "zero\n",
            "positive\n"
          ],
          "name": "stdout"
        }
      ]
    },
    {
      "cell_type": "code",
      "metadata": {
        "colab": {
          "base_uri": "https://localhost:8080/"
        },
        "id": "CHBTUhUA-Wfa",
        "outputId": "233476a3-e012-4d6f-9c19-7156c7c2be6a"
      },
      "source": [
        "def hello(name, loud=False):\n",
        "  if loud:\n",
        "    print(\"HELLO, {}\".format(name.upper()))\n",
        "  else:\n",
        "    print(\"HELLO, {}!\".format(name))\n",
        "\n",
        "hello(\"Bob\")\n",
        "hello(\"Fred\",loud=True)\n",
        "    "
      ],
      "execution_count": 21,
      "outputs": [
        {
          "output_type": "stream",
          "text": [
            "HELLO, Bob!\n",
            "HELLO, FRED\n"
          ],
          "name": "stdout"
        }
      ]
    }
  ]
}